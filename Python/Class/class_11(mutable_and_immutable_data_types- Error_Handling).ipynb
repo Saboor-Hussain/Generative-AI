{
 "cells": [
  {
   "cell_type": "markdown",
   "metadata": {},
   "source": [
    "# Mutable and Inmutable Types"
   ]
  },
  {
   "cell_type": "markdown",
   "metadata": {},
   "source": [
    "## Mutable Type"
   ]
  },
  {
   "cell_type": "code",
   "execution_count": 1,
   "metadata": {},
   "outputs": [
    {
     "name": "stdout",
     "output_type": "stream",
     "text": [
      "List_b: [1, 2, 3, 4]\n"
     ]
    }
   ],
   "source": [
    "list_a: list[int] = [1, 2, 3]\n",
    "list_b = list_a\n",
    "list_a.append(4)\n",
    "print(\"List_b:\", list_b)"
   ]
  },
  {
   "cell_type": "markdown",
   "metadata": {},
   "source": [
    "## Addressing Changes without Function Calls"
   ]
  },
  {
   "cell_type": "code",
   "execution_count": null,
   "metadata": {},
   "outputs": [],
   "source": [
    "num_a: int = 5\n",
    "num_b = num_a\n",
    "num_a += 1\n",
    "print(\"num_b: \", num_b)"
   ]
  },
  {
   "cell_type": "markdown",
   "metadata": {},
   "source": [
    "## Immutable type"
   ]
  },
  {
   "cell_type": "markdown",
   "metadata": {},
   "source": [
    "#### Pass By Value"
   ]
  },
  {
   "cell_type": "code",
   "execution_count": 16,
   "metadata": {},
   "outputs": [
    {
     "name": "stdout",
     "output_type": "stream",
     "text": [
      "First Assignment of variable of a value is: 5 and address is: 140709843751848\n",
      "\tnum1 value at start of function: 5 address 140709843751848\n",
      "\tnum1 value at end of function: 6 address 140709843751880\n",
      "End of Program: Value of a: 5 address of 140709843751848\n"
     ]
    }
   ],
   "source": [
    "a: int = 5\n",
    "\n",
    "# int ,str,bool ,float are immutable data types\n",
    "print(\n",
    "    f\"First Assignment of variable of a value is: {a} and address is: {id(a)}\")\n",
    "\n",
    "\n",
    "def abc(num1: int) -> None:\n",
    "    print(f\"\\tnum1 value at start of function: {num1} address {id(num1)}\")\n",
    "    num1 = 6    # Copy\n",
    "    print(f\"\\tnum1 value at end of function: {num1} address {id(num1)}\")\n",
    "\n",
    "\n",
    "abc(a)  # Pass by value immutable\n",
    "\n",
    "# The Orignal value of does'nt change\n",
    "print(f\"End of Program: Value of a: {a} address of {id(a)}\")"
   ]
  },
  {
   "cell_type": "code",
   "execution_count": 23,
   "metadata": {},
   "outputs": [
    {
     "name": "stdout",
     "output_type": "stream",
     "text": [
      "Value of X: 7 Id of X: 140709843751912\n",
      "Value of X: 7 Id of X: 140709843751912\n",
      "Value of X: 200 Id of X: 140709843758088\n"
     ]
    }
   ],
   "source": [
    "x: int = 7\n",
    "\n",
    "b = x\n",
    "print(f\"Value of X: {x} Id of X: {id(x)}\")\n",
    "print(f\"Value of X: {b} Id of X: {id(b)}\")\n",
    "\n",
    "b = 200\n",
    "\n",
    "print(f\"Value of X: {b} Id of X: {id(b)}\")"
   ]
  },
  {
   "cell_type": "code",
   "execution_count": 27,
   "metadata": {},
   "outputs": [
    {
     "name": "stdout",
     "output_type": "stream",
     "text": [
      "Value of X: 7 Id of X: 140709843751912\n",
      "Value of X: 7 Id of X: 140709843751912\n",
      "Value of X: 200 Id of X: 140709843758088\n"
     ]
    }
   ],
   "source": [
    "x: int = 7\n",
    "\n",
    "b: int = 7\n",
    "print(f\"Value of X: {x} Id of X: {id(x)}\")\n",
    "print(f\"Value of X: {b} Id of X: {id(b)}\")\n",
    "\n",
    "b = 200\n",
    "\n",
    "print(f\"Value of X: {b} Id of X: {id(b)}\")"
   ]
  },
  {
   "cell_type": "markdown",
   "metadata": {},
   "source": [
    "## Mutable type"
   ]
  },
  {
   "cell_type": "markdown",
   "metadata": {},
   "source": [
    "### Pass By Reference"
   ]
  },
  {
   "cell_type": "code",
   "execution_count": 28,
   "metadata": {},
   "outputs": [
    {
     "name": "stdout",
     "output_type": "stream",
     "text": [
      "Value of X: [1, 2, 3, 4] Id of X: 1665798707776\n",
      "\tValue of X: [1, 2, 3, 4] Id of X: 1665798707776\n",
      "\tValue of X: [1, 2, 3, 4, 200] Id of X: 1665798707776\n",
      "[1, 2, 3, 4, 200]\n"
     ]
    }
   ],
   "source": [
    "a: list[int] = [1, 2, 3, 4]\n",
    "\n",
    "print(f\"Value of X: {a} Id of X: {id(a)}\")\n",
    "def abc(num1: list[int]) -> None:       # Address of num1 and a will be same\n",
    "    print(f\"\\tValue of X: {num1} Id of X: {id(num1)}\")\n",
    "    num1.append(200)    # Added one element\n",
    "    print(f\"\\tValue of X: {num1} Id of X: {id(num1)}\")\n",
    "\n",
    "\n",
    "abc(a)\n",
    "print(a)\n",
    "# List is mutable"
   ]
  },
  {
   "cell_type": "code",
   "execution_count": 29,
   "metadata": {},
   "outputs": [
    {
     "name": "stdout",
     "output_type": "stream",
     "text": [
      "num1: [100, 150, 200]\n",
      "Orignal Value of a: [1, 2, 3, 4]\n"
     ]
    }
   ],
   "source": [
    "a: list[int] = [1, 2, 3, 4]\n",
    "\n",
    "\n",
    "def abc(num1: list[int]) -> None:\n",
    "    # Reassign list variable -> Create new object\n",
    "    num1: list[int] = [100, 150]\n",
    "    num1.append(200)    # Added one element\n",
    "    print(f\"num1: {num1}\")\n",
    "\n",
    "\n",
    "abc(a)  # pass by reference (mutable data type)\n",
    "print(f\"Orignal Value of a: {a}\")\n",
    "# List is mutable"
   ]
  },
  {
   "cell_type": "code",
   "execution_count": 30,
   "metadata": {},
   "outputs": [
    {
     "name": "stdout",
     "output_type": "stream",
     "text": [
      "num1: [1, 2, 3, 4, 200]\n",
      "Orignal Value of a: [1, 2, 3, 4]\n"
     ]
    }
   ],
   "source": [
    "a: list[int] = [1, 2, 3, 4]\n",
    "\n",
    "\n",
    "def abc(num1: list[int]) -> None:\n",
    "    # Reassign list variable -> Create new object\n",
    "    num1: list[int] = [1, 2, 3, 4]\n",
    "    num1.append(200)    # Added one element\n",
    "    print(f\"num1: {num1}\")\n",
    "\n",
    "\n",
    "abc(a)  # pass by reference (mutable data type)\n",
    "print(f\"Orignal Value of a: {a}\")\n",
    "# List is mutable"
   ]
  },
  {
   "cell_type": "code",
   "execution_count": 31,
   "metadata": {},
   "outputs": [
    {
     "name": "stdout",
     "output_type": "stream",
     "text": [
      "1665798428800\n",
      "1665798703744\n"
     ]
    }
   ],
   "source": [
    "a: list[int] = [1, 2, 3, 4] # Imutable : Immutable have a each own id\n",
    "b: list[int] = [1, 2, 3, 4] # Imutable\n",
    "\n",
    "print(id(a))\n",
    "print(id(b))\n"
   ]
  },
  {
   "cell_type": "markdown",
   "metadata": {},
   "source": [
    "# Error Handling"
   ]
  },
  {
   "cell_type": "code",
   "execution_count": 2,
   "metadata": {},
   "outputs": [
    {
     "name": "stdout",
     "output_type": "stream",
     "text": [
      "2491144131264\n",
      "2491161195008\n",
      "['a', 'b', 'c', 'd']\n",
      "-2\n"
     ]
    }
   ],
   "source": [
    "a: list[str] = ['a', 'b']\n",
    "b: list[str] = ['c', 'd']\n",
    "\n",
    "\n",
    "print(id(a))\n",
    "print(id(b))\n",
    "\n",
    "print(a+b)\n",
    "\n",
    "print(5-7)"
   ]
  },
  {
   "cell_type": "markdown",
   "metadata": {},
   "source": [
    "# Runtime Error"
   ]
  },
  {
   "cell_type": "code",
   "execution_count": 3,
   "metadata": {},
   "outputs": [
    {
     "name": "stdout",
     "output_type": "stream",
     "text": [
      "5.0\n"
     ]
    }
   ],
   "source": [
    "a:int = int(input(\"Enter number 1::\\t\"))    # we pass 10\n",
    "b:int = int(input(\"Enter number 2::\\t\"))    # we pass 5\n",
    "\n",
    "print(a /b) # answer = 5"
   ]
  },
  {
   "cell_type": "markdown",
   "metadata": {},
   "source": [
    "### Error"
   ]
  },
  {
   "cell_type": "code",
   "execution_count": 4,
   "metadata": {},
   "outputs": [
    {
     "ename": "ZeroDivisionError",
     "evalue": "division by zero",
     "output_type": "error",
     "traceback": [
      "\u001b[1;31m---------------------------------------------------------------------------\u001b[0m",
      "\u001b[1;31mZeroDivisionError\u001b[0m                         Traceback (most recent call last)",
      "\u001b[1;32md:\\Studies\\Web3&Metaverse\\Generative AI\\Python\\Class\\class_11(mutable_and_immutable_data_types- Error_Handling).ipynb Cell 21\u001b[0m line \u001b[0;36m4\n\u001b[0;32m      <a href='vscode-notebook-cell:/d%3A/Studies/Web3%26Metaverse/Generative%20AI/Python/Class/class_11%28mutable_and_immutable_data_types-%20Error_Handling%29.ipynb#X26sZmlsZQ%3D%3D?line=0'>1</a>\u001b[0m a:\u001b[39mint\u001b[39m \u001b[39m=\u001b[39m \u001b[39mint\u001b[39m(\u001b[39minput\u001b[39m(\u001b[39m\"\u001b[39m\u001b[39mEnter number 1::\u001b[39m\u001b[39m\\t\u001b[39;00m\u001b[39m\"\u001b[39m))\n\u001b[0;32m      <a href='vscode-notebook-cell:/d%3A/Studies/Web3%26Metaverse/Generative%20AI/Python/Class/class_11%28mutable_and_immutable_data_types-%20Error_Handling%29.ipynb#X26sZmlsZQ%3D%3D?line=1'>2</a>\u001b[0m b:\u001b[39mint\u001b[39m \u001b[39m=\u001b[39m \u001b[39mint\u001b[39m(\u001b[39minput\u001b[39m(\u001b[39m\"\u001b[39m\u001b[39mEnter number 2::\u001b[39m\u001b[39m\\t\u001b[39;00m\u001b[39m\"\u001b[39m))\n\u001b[1;32m----> <a href='vscode-notebook-cell:/d%3A/Studies/Web3%26Metaverse/Generative%20AI/Python/Class/class_11%28mutable_and_immutable_data_types-%20Error_Handling%29.ipynb#X26sZmlsZQ%3D%3D?line=3'>4</a>\u001b[0m \u001b[39mprint\u001b[39m(a \u001b[39m/\u001b[39;49mb)\n",
      "\u001b[1;31mZeroDivisionError\u001b[0m: division by zero"
     ]
    }
   ],
   "source": [
    "a:int = int(input(\"Enter number 1::\\t\"))      # we pass 8\n",
    "b:int = int(input(\"Enter number 2::\\t\"))      # we pass 0\n",
    "\n",
    "print(a /b) # Will generate Error"
   ]
  },
  {
   "cell_type": "code",
   "execution_count": 5,
   "metadata": {},
   "outputs": [
    {
     "name": "stdout",
     "output_type": "stream",
     "text": [
      "Sir Qasim\n"
     ]
    }
   ],
   "source": [
    "names: list[str] = [\"Sir Zia\", \"Sir Qasim\"]\n",
    "\n",
    "indx : int = int(input(\"Enter index number:\\t\"))\n",
    "\n",
    "print(names[indx]) # we pass 1"
   ]
  },
  {
   "cell_type": "markdown",
   "metadata": {},
   "source": [
    "### Error"
   ]
  },
  {
   "cell_type": "code",
   "execution_count": 6,
   "metadata": {},
   "outputs": [
    {
     "ename": "IndexError",
     "evalue": "list index out of range",
     "output_type": "error",
     "traceback": [
      "\u001b[1;31m---------------------------------------------------------------------------\u001b[0m",
      "\u001b[1;31mIndexError\u001b[0m                                Traceback (most recent call last)",
      "\u001b[1;32md:\\Studies\\Web3&Metaverse\\Generative AI\\Python\\Class\\class_11(mutable_and_immutable_data_types- Error_Handling).ipynb Cell 23\u001b[0m line \u001b[0;36m5\n\u001b[0;32m      <a href='vscode-notebook-cell:/d%3A/Studies/Web3%26Metaverse/Generative%20AI/Python/Class/class_11%28mutable_and_immutable_data_types-%20Error_Handling%29.ipynb#X31sZmlsZQ%3D%3D?line=0'>1</a>\u001b[0m names: \u001b[39mlist\u001b[39m[\u001b[39mstr\u001b[39m] \u001b[39m=\u001b[39m [\u001b[39m\"\u001b[39m\u001b[39mSir Zia\u001b[39m\u001b[39m\"\u001b[39m, \u001b[39m\"\u001b[39m\u001b[39mSir Qasim\u001b[39m\u001b[39m\"\u001b[39m]\n\u001b[0;32m      <a href='vscode-notebook-cell:/d%3A/Studies/Web3%26Metaverse/Generative%20AI/Python/Class/class_11%28mutable_and_immutable_data_types-%20Error_Handling%29.ipynb#X31sZmlsZQ%3D%3D?line=2'>3</a>\u001b[0m indx : \u001b[39mint\u001b[39m \u001b[39m=\u001b[39m \u001b[39mint\u001b[39m(\u001b[39minput\u001b[39m(\u001b[39m\"\u001b[39m\u001b[39mEnter index number:\u001b[39m\u001b[39m\\t\u001b[39;00m\u001b[39m\"\u001b[39m))\n\u001b[1;32m----> <a href='vscode-notebook-cell:/d%3A/Studies/Web3%26Metaverse/Generative%20AI/Python/Class/class_11%28mutable_and_immutable_data_types-%20Error_Handling%29.ipynb#X31sZmlsZQ%3D%3D?line=4'>5</a>\u001b[0m \u001b[39mprint\u001b[39m(names[indx]) \u001b[39m# we pass 4\u001b[39;00m\n",
      "\u001b[1;31mIndexError\u001b[0m: list index out of range"
     ]
    }
   ],
   "source": [
    "names: list[str] = [\"Sir Zia\", \"Sir Qasim\"]\n",
    "\n",
    "indx : int = int(input(\"Enter index number:\\t\"))\n",
    "\n",
    "print(names[indx]) # we pass 4"
   ]
  },
  {
   "cell_type": "code",
   "execution_count": 8,
   "metadata": {},
   "outputs": [
    {
     "data": {
      "text/plain": [
       "'Saboor Hussain'"
      ]
     },
     "execution_count": 8,
     "metadata": {},
     "output_type": "execute_result"
    }
   ],
   "source": [
    "data: dict[str, str] = {\n",
    "    \"name\": \"Saboor Hussain\",\n",
    "    \"age\": \"Saboor Hussain\",\n",
    "}\n",
    "\n",
    "data[\"name\"]"
   ]
  },
  {
   "cell_type": "markdown",
   "metadata": {},
   "source": [
    "### Error"
   ]
  },
  {
   "cell_type": "code",
   "execution_count": 7,
   "metadata": {},
   "outputs": [
    {
     "ename": "KeyError",
     "evalue": "'fathername'",
     "output_type": "error",
     "traceback": [
      "\u001b[1;31m---------------------------------------------------------------------------\u001b[0m",
      "\u001b[1;31mKeyError\u001b[0m                                  Traceback (most recent call last)",
      "\u001b[1;32md:\\Studies\\Web3&Metaverse\\Generative AI\\Python\\Class\\class_11(mutable_and_immutable_data_types- Error_Handling).ipynb Cell 24\u001b[0m line \u001b[0;36m6\n\u001b[0;32m      <a href='vscode-notebook-cell:/d%3A/Studies/Web3%26Metaverse/Generative%20AI/Python/Class/class_11%28mutable_and_immutable_data_types-%20Error_Handling%29.ipynb#X32sZmlsZQ%3D%3D?line=0'>1</a>\u001b[0m data: \u001b[39mdict\u001b[39m[\u001b[39mstr\u001b[39m, \u001b[39mstr\u001b[39m] \u001b[39m=\u001b[39m {\n\u001b[0;32m      <a href='vscode-notebook-cell:/d%3A/Studies/Web3%26Metaverse/Generative%20AI/Python/Class/class_11%28mutable_and_immutable_data_types-%20Error_Handling%29.ipynb#X32sZmlsZQ%3D%3D?line=1'>2</a>\u001b[0m     \u001b[39m\"\u001b[39m\u001b[39mname\u001b[39m\u001b[39m\"\u001b[39m: \u001b[39m\"\u001b[39m\u001b[39mSaboor Hussain\u001b[39m\u001b[39m\"\u001b[39m,\n\u001b[0;32m      <a href='vscode-notebook-cell:/d%3A/Studies/Web3%26Metaverse/Generative%20AI/Python/Class/class_11%28mutable_and_immutable_data_types-%20Error_Handling%29.ipynb#X32sZmlsZQ%3D%3D?line=2'>3</a>\u001b[0m     \u001b[39m\"\u001b[39m\u001b[39mage\u001b[39m\u001b[39m\"\u001b[39m: \u001b[39m\"\u001b[39m\u001b[39mSaboor Hussain\u001b[39m\u001b[39m\"\u001b[39m,\n\u001b[0;32m      <a href='vscode-notebook-cell:/d%3A/Studies/Web3%26Metaverse/Generative%20AI/Python/Class/class_11%28mutable_and_immutable_data_types-%20Error_Handling%29.ipynb#X32sZmlsZQ%3D%3D?line=3'>4</a>\u001b[0m }\n\u001b[1;32m----> <a href='vscode-notebook-cell:/d%3A/Studies/Web3%26Metaverse/Generative%20AI/Python/Class/class_11%28mutable_and_immutable_data_types-%20Error_Handling%29.ipynb#X32sZmlsZQ%3D%3D?line=5'>6</a>\u001b[0m data[\u001b[39m\"\u001b[39;49m\u001b[39mfathername\u001b[39;49m\u001b[39m\"\u001b[39;49m]\n",
      "\u001b[1;31mKeyError\u001b[0m: 'fathername'"
     ]
    }
   ],
   "source": [
    "data: dict[str, str] = {\n",
    "    \"name\": \"Saboor Hussain\",\n",
    "    \"age\": \"Saboor Hussain\",\n",
    "}\n",
    "\n",
    "data[\"fathername\"]"
   ]
  },
  {
   "cell_type": "code",
   "execution_count": 9,
   "metadata": {},
   "outputs": [
    {
     "ename": "FileNotFoundError",
     "evalue": "[Errno 2] No such file or directory: 'abc.txt'",
     "output_type": "error",
     "traceback": [
      "\u001b[1;31m---------------------------------------------------------------------------\u001b[0m",
      "\u001b[1;31mFileNotFoundError\u001b[0m                         Traceback (most recent call last)",
      "\u001b[1;32md:\\Studies\\Web3&Metaverse\\Generative AI\\Python\\Class\\class_11(mutable_and_immutable_data_types- Error_Handling).ipynb Cell 29\u001b[0m line \u001b[0;36m1\n\u001b[1;32m----> <a href='vscode-notebook-cell:/d%3A/Studies/Web3%26Metaverse/Generative%20AI/Python/Class/class_11%28mutable_and_immutable_data_types-%20Error_Handling%29.ipynb#X40sZmlsZQ%3D%3D?line=0'>1</a>\u001b[0m \u001b[39mopen\u001b[39;49m(\u001b[39m\"\u001b[39;49m\u001b[39mabc.txt\u001b[39;49m\u001b[39m\"\u001b[39;49m)\n",
      "File \u001b[1;32m~\\AppData\\Roaming\\Python\\Python311\\site-packages\\IPython\\core\\interactiveshell.py:286\u001b[0m, in \u001b[0;36m_modified_open\u001b[1;34m(file, *args, **kwargs)\u001b[0m\n\u001b[0;32m    279\u001b[0m \u001b[39mif\u001b[39;00m file \u001b[39min\u001b[39;00m {\u001b[39m0\u001b[39m, \u001b[39m1\u001b[39m, \u001b[39m2\u001b[39m}:\n\u001b[0;32m    280\u001b[0m     \u001b[39mraise\u001b[39;00m \u001b[39mValueError\u001b[39;00m(\n\u001b[0;32m    281\u001b[0m         \u001b[39mf\u001b[39m\u001b[39m\"\u001b[39m\u001b[39mIPython won\u001b[39m\u001b[39m'\u001b[39m\u001b[39mt let you open fd=\u001b[39m\u001b[39m{\u001b[39;00mfile\u001b[39m}\u001b[39;00m\u001b[39m by default \u001b[39m\u001b[39m\"\u001b[39m\n\u001b[0;32m    282\u001b[0m         \u001b[39m\"\u001b[39m\u001b[39mas it is likely to crash IPython. If you know what you are doing, \u001b[39m\u001b[39m\"\u001b[39m\n\u001b[0;32m    283\u001b[0m         \u001b[39m\"\u001b[39m\u001b[39myou can use builtins\u001b[39m\u001b[39m'\u001b[39m\u001b[39m open.\u001b[39m\u001b[39m\"\u001b[39m\n\u001b[0;32m    284\u001b[0m     )\n\u001b[1;32m--> 286\u001b[0m \u001b[39mreturn\u001b[39;00m io_open(file, \u001b[39m*\u001b[39;49margs, \u001b[39m*\u001b[39;49m\u001b[39m*\u001b[39;49mkwargs)\n",
      "\u001b[1;31mFileNotFoundError\u001b[0m: [Errno 2] No such file or directory: 'abc.txt'"
     ]
    }
   ],
   "source": [
    "open(\"abc.txt\")"
   ]
  },
  {
   "cell_type": "markdown",
   "metadata": {},
   "source": [
    "# Handling Runtime Error\n",
    "\n",
    "```\n",
    "try:\n",
    "    logic\n",
    "\n",
    "except (Error_class1, Error_class2):\n",
    "    if error occured then run this block\n",
    "\n",
    "else:\n",
    "    if error not accured\n",
    "\n",
    "finally: \n",
    "    always run\n",
    "    \n",
    "```"
   ]
  },
  {
   "cell_type": "code",
   "execution_count": 11,
   "metadata": {},
   "outputs": [
    {
     "name": "stdout",
     "output_type": "stream",
     "text": [
      "logic1\n",
      "logic2\n"
     ]
    },
    {
     "ename": "ZeroDivisionError",
     "evalue": "division by zero",
     "output_type": "error",
     "traceback": [
      "\u001b[1;31m---------------------------------------------------------------------------\u001b[0m",
      "\u001b[1;31mZeroDivisionError\u001b[0m                         Traceback (most recent call last)",
      "\u001b[1;32md:\\Studies\\Web3&Metaverse\\Generative AI\\Python\\Class\\class_11(mutable_and_immutable_data_types- Error_Handling).ipynb Cell 31\u001b[0m line \u001b[0;36m3\n\u001b[0;32m      <a href='vscode-notebook-cell:/d%3A/Studies/Web3%26Metaverse/Generative%20AI/Python/Class/class_11%28mutable_and_immutable_data_types-%20Error_Handling%29.ipynb#X43sZmlsZQ%3D%3D?line=0'>1</a>\u001b[0m \u001b[39mprint\u001b[39m(\u001b[39m\"\u001b[39m\u001b[39mlogic1\u001b[39m\u001b[39m\"\u001b[39m)\n\u001b[0;32m      <a href='vscode-notebook-cell:/d%3A/Studies/Web3%26Metaverse/Generative%20AI/Python/Class/class_11%28mutable_and_immutable_data_types-%20Error_Handling%29.ipynb#X43sZmlsZQ%3D%3D?line=1'>2</a>\u001b[0m \u001b[39mprint\u001b[39m(\u001b[39m\"\u001b[39m\u001b[39mlogic2\u001b[39m\u001b[39m\"\u001b[39m)\n\u001b[1;32m----> <a href='vscode-notebook-cell:/d%3A/Studies/Web3%26Metaverse/Generative%20AI/Python/Class/class_11%28mutable_and_immutable_data_types-%20Error_Handling%29.ipynb#X43sZmlsZQ%3D%3D?line=2'>3</a>\u001b[0m \u001b[39mprint\u001b[39m(\u001b[39m7\u001b[39;49m\u001b[39m/\u001b[39;49m\u001b[39m0\u001b[39;49m)\n\u001b[0;32m      <a href='vscode-notebook-cell:/d%3A/Studies/Web3%26Metaverse/Generative%20AI/Python/Class/class_11%28mutable_and_immutable_data_types-%20Error_Handling%29.ipynb#X43sZmlsZQ%3D%3D?line=3'>4</a>\u001b[0m \u001b[39mprint\u001b[39m(\u001b[39m\"\u001b[39m\u001b[39mlogic4\u001b[39m\u001b[39m\"\u001b[39m)\n\u001b[0;32m      <a href='vscode-notebook-cell:/d%3A/Studies/Web3%26Metaverse/Generative%20AI/Python/Class/class_11%28mutable_and_immutable_data_types-%20Error_Handling%29.ipynb#X43sZmlsZQ%3D%3D?line=4'>5</a>\u001b[0m \u001b[39mprint\u001b[39m(\u001b[39m\"\u001b[39m\u001b[39mlogic5\u001b[39m\u001b[39m\"\u001b[39m)\n",
      "\u001b[1;31mZeroDivisionError\u001b[0m: division by zero"
     ]
    }
   ],
   "source": [
    "print(\"logic1\")\n",
    "print(\"logic2\")\n",
    "print(7/0)\n",
    "print(\"logic4\")\n",
    "print(\"logic5\")\n"
   ]
  },
  {
   "cell_type": "code",
   "execution_count": 14,
   "metadata": {},
   "outputs": [
    {
     "name": "stdout",
     "output_type": "stream",
     "text": [
      "logic1\n",
      "logic2\n",
      "logic4\n",
      "logic5\n"
     ]
    }
   ],
   "source": [
    "print(\"logic1\")\n",
    "print(\"logic2\")\n",
    "\n",
    "try:\n",
    "    print(7/0)\n",
    "\n",
    "except (ZeroDivisionError):\n",
    "    pass\n",
    "\n",
    "print(\"logic4\")\n",
    "print(\"logic5\")"
   ]
  },
  {
   "cell_type": "code",
   "execution_count": 15,
   "metadata": {},
   "outputs": [
    {
     "name": "stdout",
     "output_type": "stream",
     "text": [
      "logic1\n",
      "logic2\n",
      "Zero Division Error!\n",
      "logic4\n",
      "logic5\n"
     ]
    }
   ],
   "source": [
    "print(\"logic1\")\n",
    "print(\"logic2\")\n",
    "\n",
    "try:\n",
    "    print(7/0)\n",
    "\n",
    "except (ZeroDivisionError):\n",
    "    print(\"Zero Division Error!\")\n",
    "\n",
    "print(\"logic4\")\n",
    "print(\"logic5\")"
   ]
  },
  {
   "cell_type": "code",
   "execution_count": 25,
   "metadata": {},
   "outputs": [
    {
     "name": "stdout",
     "output_type": "stream",
     "text": [
      "logic1\n",
      "logic2\n",
      "3.5\n"
     ]
    },
    {
     "ename": "IndexError",
     "evalue": "list index out of range",
     "output_type": "error",
     "traceback": [
      "\u001b[1;31m---------------------------------------------------------------------------\u001b[0m",
      "\u001b[1;31mIndexError\u001b[0m                                Traceback (most recent call last)",
      "\u001b[1;32md:\\Studies\\Web3&Metaverse\\Generative AI\\Python\\Class\\class_11(mutable_and_immutable_data_types- Error_Handling).ipynb Cell 34\u001b[0m line \u001b[0;36m8\n\u001b[0;32m      <a href='vscode-notebook-cell:/d%3A/Studies/Web3%26Metaverse/Generative%20AI/Python/Class/class_11%28mutable_and_immutable_data_types-%20Error_Handling%29.ipynb#X45sZmlsZQ%3D%3D?line=5'>6</a>\u001b[0m \u001b[39mtry\u001b[39;00m:\n\u001b[0;32m      <a href='vscode-notebook-cell:/d%3A/Studies/Web3%26Metaverse/Generative%20AI/Python/Class/class_11%28mutable_and_immutable_data_types-%20Error_Handling%29.ipynb#X45sZmlsZQ%3D%3D?line=6'>7</a>\u001b[0m     \u001b[39mprint\u001b[39m(\u001b[39m7\u001b[39m\u001b[39m/\u001b[39m\u001b[39m2\u001b[39m) \u001b[39m# ERROR\u001b[39;00m\n\u001b[1;32m----> <a href='vscode-notebook-cell:/d%3A/Studies/Web3%26Metaverse/Generative%20AI/Python/Class/class_11%28mutable_and_immutable_data_types-%20Error_Handling%29.ipynb#X45sZmlsZQ%3D%3D?line=7'>8</a>\u001b[0m     \u001b[39mprint\u001b[39m(l1[\u001b[39m10\u001b[39;49m])\n\u001b[0;32m      <a href='vscode-notebook-cell:/d%3A/Studies/Web3%26Metaverse/Generative%20AI/Python/Class/class_11%28mutable_and_immutable_data_types-%20Error_Handling%29.ipynb#X45sZmlsZQ%3D%3D?line=8'>9</a>\u001b[0m     \u001b[39mprint\u001b[39m(xyz)\n\u001b[0;32m     <a href='vscode-notebook-cell:/d%3A/Studies/Web3%26Metaverse/Generative%20AI/Python/Class/class_11%28mutable_and_immutable_data_types-%20Error_Handling%29.ipynb#X45sZmlsZQ%3D%3D?line=11'>12</a>\u001b[0m \u001b[39mexcept\u001b[39;00m (\u001b[39mZeroDivisionError\u001b[39;00m ):\n",
      "\u001b[1;31mIndexError\u001b[0m: list index out of range"
     ]
    }
   ],
   "source": [
    "print(\"logic1\")\n",
    "print(\"logic2\")\n",
    "\n",
    "l1: list[int] = [1,2,3]\n",
    "\n",
    "try:\n",
    "    print(7/2)\n",
    "    print(l1[10]) # ERROR\n",
    "\n",
    "except (ZeroDivisionError ):\n",
    "    print(\"Zero Division Error!\")\n",
    "\n",
    "print(\"logic4\")\n",
    "print(\"logic5\")"
   ]
  },
  {
   "cell_type": "code",
   "execution_count": 28,
   "metadata": {},
   "outputs": [
    {
     "name": "stdout",
     "output_type": "stream",
     "text": [
      "logic1\n",
      "logic2\n",
      "0.4\n",
      "Index Error!\n",
      "logic4\n",
      "logic5\n"
     ]
    }
   ],
   "source": [
    "print(\"logic1\")\n",
    "print(\"logic2\")\n",
    "\n",
    "l1: list[int] = [1,2,3]\n",
    "\n",
    "try:\n",
    "    print(2/5)\n",
    "    print(l1[10]) # ERROR\n",
    "\n",
    "except (ZeroDivisionError , IndexError):\n",
    "    print(\"Index Error!\")\n",
    "\n",
    "print(\"logic4\")\n",
    "print(\"logic5\")"
   ]
  },
  {
   "cell_type": "code",
   "execution_count": 29,
   "metadata": {},
   "outputs": [
    {
     "name": "stdout",
     "output_type": "stream",
     "text": [
      "logic1\n",
      "logic2\n",
      "3.5\n",
      "2\n"
     ]
    },
    {
     "ename": "NameError",
     "evalue": "name 'xyz' is not defined",
     "output_type": "error",
     "traceback": [
      "\u001b[1;31m---------------------------------------------------------------------------\u001b[0m",
      "\u001b[1;31mNameError\u001b[0m                                 Traceback (most recent call last)",
      "\u001b[1;32md:\\Studies\\Web3&Metaverse\\Generative AI\\Python\\Class\\class_11(mutable_and_immutable_data_types- Error_Handling).ipynb Cell 36\u001b[0m line \u001b[0;36m9\n\u001b[0;32m      <a href='vscode-notebook-cell:/d%3A/Studies/Web3%26Metaverse/Generative%20AI/Python/Class/class_11%28mutable_and_immutable_data_types-%20Error_Handling%29.ipynb#X50sZmlsZQ%3D%3D?line=6'>7</a>\u001b[0m     \u001b[39mprint\u001b[39m(\u001b[39m7\u001b[39m\u001b[39m/\u001b[39m\u001b[39m2\u001b[39m)\n\u001b[0;32m      <a href='vscode-notebook-cell:/d%3A/Studies/Web3%26Metaverse/Generative%20AI/Python/Class/class_11%28mutable_and_immutable_data_types-%20Error_Handling%29.ipynb#X50sZmlsZQ%3D%3D?line=7'>8</a>\u001b[0m     \u001b[39mprint\u001b[39m(l1[\u001b[39m1\u001b[39m]) \n\u001b[1;32m----> <a href='vscode-notebook-cell:/d%3A/Studies/Web3%26Metaverse/Generative%20AI/Python/Class/class_11%28mutable_and_immutable_data_types-%20Error_Handling%29.ipynb#X50sZmlsZQ%3D%3D?line=8'>9</a>\u001b[0m     \u001b[39mprint\u001b[39m(xyz) \u001b[39m# ERROR\u001b[39;00m\n\u001b[0;32m     <a href='vscode-notebook-cell:/d%3A/Studies/Web3%26Metaverse/Generative%20AI/Python/Class/class_11%28mutable_and_immutable_data_types-%20Error_Handling%29.ipynb#X50sZmlsZQ%3D%3D?line=10'>11</a>\u001b[0m \u001b[39mexcept\u001b[39;00m (\u001b[39mZeroDivisionError\u001b[39;00m , \u001b[39mIndexError\u001b[39;00m):\n\u001b[0;32m     <a href='vscode-notebook-cell:/d%3A/Studies/Web3%26Metaverse/Generative%20AI/Python/Class/class_11%28mutable_and_immutable_data_types-%20Error_Handling%29.ipynb#X50sZmlsZQ%3D%3D?line=11'>12</a>\u001b[0m     \u001b[39mprint\u001b[39m(\u001b[39m\"\u001b[39m\u001b[39mZero Division Error!\u001b[39m\u001b[39m\"\u001b[39m)\n",
      "\u001b[1;31mNameError\u001b[0m: name 'xyz' is not defined"
     ]
    }
   ],
   "source": [
    "print(\"logic1\")\n",
    "print(\"logic2\")\n",
    "\n",
    "l1: list[int] = [1,2,3]\n",
    "\n",
    "try:\n",
    "    print(7/2)\n",
    "    print(l1[1]) \n",
    "    print(xyz) # ERROR\n",
    "\n",
    "except (ZeroDivisionError , IndexError):\n",
    "    print(\"Zero Division Error!\")\n",
    "\n",
    "print(\"logic4\")\n",
    "print(\"logic5\")"
   ]
  },
  {
   "cell_type": "code",
   "execution_count": 34,
   "metadata": {},
   "outputs": [
    {
     "name": "stdout",
     "output_type": "stream",
     "text": [
      "logic1\n",
      "logic2\n",
      "3.5\n",
      "2\n",
      "Name Error!\n",
      "logic4\n",
      "logic5\n"
     ]
    }
   ],
   "source": [
    "print(\"logic1\")\n",
    "print(\"logic2\")\n",
    "\n",
    "l1: list[int] = [1,2,3]\n",
    "\n",
    "try:\n",
    "    print(7/2)\n",
    "    print(l1[1]) \n",
    "    print(xyz) # ERROR\n",
    "\n",
    "except (ZeroDivisionError):\n",
    "    print(\"Zero Division Error!\")\n",
    "\n",
    "except (IndexError):\n",
    "    print(\"Index Error!\")\n",
    "\n",
    "except (NameError):\n",
    "    print(\"Name Error!\")\n",
    "\n",
    "\n",
    "print(\"logic4\")\n",
    "print(\"logic5\")"
   ]
  }
 ],
 "metadata": {
  "kernelspec": {
   "display_name": "Python 3",
   "language": "python",
   "name": "python3"
  },
  "language_info": {
   "codemirror_mode": {
    "name": "ipython",
    "version": 3
   },
   "file_extension": ".py",
   "mimetype": "text/x-python",
   "name": "python",
   "nbconvert_exporter": "python",
   "pygments_lexer": "ipython3",
   "version": "3.11.0"
  }
 },
 "nbformat": 4,
 "nbformat_minor": 2
}
