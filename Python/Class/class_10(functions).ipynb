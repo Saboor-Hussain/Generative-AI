{
 "cells": [
  {
   "cell_type": "markdown",
   "metadata": {},
   "source": [
    "# Functions\n",
    "\n",
    "- pre-defined function\n",
    "\n",
    "  - provided by in language\n",
    "\n",
    "- user-defined function\n",
    "  - custom functions\n",
    "\n",
    "## Similar properties on both types\n",
    "\n",
    "- Return and Non-return function\n",
    "  - Return\n",
    "    - We can assign this function output in any variable\n",
    "  - Non-Return\n",
    "    - Only run we can't assign value to variable\n",
    "\n",
    "## Components\n",
    "\n",
    "- function declaration\n",
    "- function body\n",
    "- function calling\n",
    "\n",
    "## Syntax of Function\n",
    "\n",
    "```\n",
    "def function_name(param1: type , param2: type) -> return_type:\n",
    "    function_body\n",
    "\n",
    "# Calling Function\n",
    "function_name(arg1,arg2)\n",
    "```\n"
   ]
  },
  {
   "cell_type": "markdown",
   "metadata": {},
   "source": [
    "## Pre-defined Functions\n",
    "\n",
    "- print\n",
    "- len\n",
    "- id\n",
    "- dir\n",
    "- str\n",
    "- chr\n",
    "- ord\n",
    "- exec\n",
    "- zip\n"
   ]
  },
  {
   "cell_type": "code",
   "execution_count": null,
   "metadata": {},
   "outputs": [],
   "source": [
    "print(\"abc\")\n",
    "print(len(\"abc\"))"
   ]
  },
  {
   "cell_type": "markdown",
   "metadata": {},
   "source": [
    "## Return and Non-Return Function\n"
   ]
  },
  {
   "cell_type": "code",
   "execution_count": 1,
   "metadata": {},
   "outputs": [
    {
     "name": "stdout",
     "output_type": "stream",
     "text": [
      "Pakistan\n"
     ]
    },
    {
     "data": {
      "text/plain": [
       "None"
      ]
     },
     "metadata": {},
     "output_type": "display_data"
    }
   ],
   "source": [
    "# a = \"Pakistan\" | None (always determined the Non-Return Function)\n",
    "a: str = print(\"Pakistan\")\n",
    "display(a)\n",
    "\n",
    "# print is a Non Return Function"
   ]
  },
  {
   "cell_type": "code",
   "execution_count": 2,
   "metadata": {},
   "outputs": [
    {
     "data": {
      "text/plain": [
       "8"
      ]
     },
     "metadata": {},
     "output_type": "display_data"
    }
   ],
   "source": [
    "# a = \"Pakistan\" | None (always determined the Non-Return Function)\n",
    "a: str = len(\"Pakistan\")\n",
    "display(a)\n",
    "\n",
    "# len is a Return Function"
   ]
  },
  {
   "cell_type": "markdown",
   "metadata": {},
   "source": [
    "## Components\n",
    "\n",
    "- function declaration\n",
    "  - function name\n",
    "    - should be unique\n",
    "  - Parameters\n",
    "    - param : type\n",
    "  - return output type\n",
    "- function body\n",
    "  - any business logic\n",
    "- function calling\n",
    "  - function_name(arg1,arg2)\n",
    "\n",
    "## Syntax of Function\n",
    "\n",
    "```\n",
    "def function_name(param1: type , param2: type) -> return_type:\n",
    "    function_body\n",
    "\n",
    "# Calling Function\n",
    "function_name(arg1,arg2)\n",
    "```\n",
    "\n",
    "## Syntax of Lambda Function\n",
    "\n",
    "### defination in points\n",
    "\n",
    "- one line function\n",
    "- without name\n",
    "- only use in this line\n",
    "\n",
    "```\n",
    "lambda param1, param2   :   function_body\n",
    "\n",
    "```\n"
   ]
  },
  {
   "cell_type": "markdown",
   "metadata": {},
   "source": [
    "### Creating Simple function without any argument (Default Function)\n"
   ]
  },
  {
   "cell_type": "code",
   "execution_count": 4,
   "metadata": {},
   "outputs": [
    {
     "name": "stdout",
     "output_type": "stream",
     "text": [
      "Name: Saboor Hussain\n",
      "Father Name: Syed Ali Khalid\n"
     ]
    }
   ],
   "source": [
    "def bioData() -> None:  # Declaration\n",
    "    # Function Body Start\n",
    "    print(\"Name: Saboor Hussain\")   # Statement 1\n",
    "    print(\"Father Name: Syed Ali Khalid\")  # Statement 2\n",
    "    # Function Body End\n",
    "\n",
    "\n",
    "bioData()"
   ]
  },
  {
   "cell_type": "markdown",
   "metadata": {},
   "source": [
    "### Required Parameter Function\n"
   ]
  },
  {
   "cell_type": "code",
   "execution_count": 5,
   "metadata": {},
   "outputs": [
    {
     "data": {
      "text/plain": [
       "11"
      ]
     },
     "execution_count": 5,
     "metadata": {},
     "output_type": "execute_result"
    }
   ],
   "source": [
    "# Return Function\n",
    "#                   param1      param2\n",
    "def add_two_numbers(num1: int, num2: int) -> int:\n",
    "    return num1 + num2\n",
    "\n",
    "\n",
    "add_two_numbers(6, 5)    # arg1, arg2"
   ]
  },
  {
   "cell_type": "code",
   "execution_count": null,
   "metadata": {},
   "outputs": [],
   "source": [
    "# Return Function\n",
    "#                   param1      param2\n",
    "def add_two_numbers(num1: int, num2: int) -> int:\n",
    "    return num1 + num2\n",
    "\n",
    "\n",
    "add_two_numbers(num2=6, num1=5)    # positional argument arg1, arg2"
   ]
  },
  {
   "cell_type": "markdown",
   "metadata": {},
   "source": [
    "### Optional Parameter Function\n"
   ]
  },
  {
   "cell_type": "code",
   "execution_count": 7,
   "metadata": {},
   "outputs": [
    {
     "data": {
      "text/plain": [
       "9"
      ]
     },
     "execution_count": 7,
     "metadata": {},
     "output_type": "execute_result"
    }
   ],
   "source": [
    "def add_two_numbers(num1: int, num2: int = 0) -> int:\n",
    "    return num1+num2\n",
    "\n",
    "\n",
    "add_two_numbers(7, 2)"
   ]
  },
  {
   "cell_type": "markdown",
   "metadata": {},
   "source": [
    "## Lambda Function (asyncronous function in Javascript)\n",
    "\n",
    "### defination in points\n",
    "\n",
    "- one line function\n",
    "- without name\n",
    "- only use in this line\n",
    "\n",
    "## Syntax of Lambda Function\n",
    "\n",
    "```\n",
    "lambda param1, param2   :   function_body\n",
    "\n",
    "```\n"
   ]
  },
  {
   "cell_type": "code",
   "execution_count": 15,
   "metadata": {},
   "outputs": [
    {
     "data": {
      "text/plain": [
       "15"
      ]
     },
     "execution_count": 15,
     "metadata": {},
     "output_type": "execute_result"
    }
   ],
   "source": [
    "a: int = lambda num1, num2: num1 + num2\n",
    "a(7, 8)"
   ]
  },
  {
   "cell_type": "markdown",
   "metadata": {},
   "source": [
    "### Lambda Function with Typing\n"
   ]
  },
  {
   "cell_type": "code",
   "execution_count": 16,
   "metadata": {},
   "outputs": [
    {
     "name": "stdout",
     "output_type": "stream",
     "text": [
      "30\n"
     ]
    }
   ],
   "source": [
    "from typing import Callable\n",
    "\n",
    "\n",
    "add: Callable[[int, int], int] = lambda x, y: x+y\n",
    "result = add(10, 20)\n",
    "print(result)"
   ]
  },
  {
   "cell_type": "markdown",
   "metadata": {},
   "source": [
    "### Usage of Lambda Function\n"
   ]
  },
  {
   "cell_type": "code",
   "execution_count": 12,
   "metadata": {},
   "outputs": [
    {
     "data": {
      "text/plain": [
       "[1, 4, 9, 16, 25, 36, 49, 64, 81, 100]"
      ]
     },
     "execution_count": 12,
     "metadata": {},
     "output_type": "execute_result"
    }
   ],
   "source": [
    "data: list[int] = [1, 2, 3, 4, 5, 6, 7, 8, 9, 10]\n",
    "\n",
    "data = list(map(lambda x: x**2, data))\n",
    "\n",
    "data"
   ]
  },
  {
   "cell_type": "code",
   "execution_count": 14,
   "metadata": {},
   "outputs": [
    {
     "data": {
      "text/plain": [
       "[2, 4, 6, 8, 10]"
      ]
     },
     "execution_count": 14,
     "metadata": {},
     "output_type": "execute_result"
    }
   ],
   "source": [
    "data: list[int] = [1, 2, 3, 4, 5, 6, 7, 8, 9, 10]\n",
    "\n",
    "data = list(filter(lambda x: x % 2 == 0, data))\n",
    "\n",
    "data"
   ]
  },
  {
   "cell_type": "markdown",
   "metadata": {},
   "source": [
    "## Generator Function\n",
    "* iterate on element one by one\n",
    "* stop after each iteration\n",
    "* remember old iteration value (last iterate value)\n",
    "* next iterate\n",
    "    * go forward from last interate value\n",
    "\n",
    "```\n",
    "\n",
    "```\n"
   ]
  },
  {
   "cell_type": "code",
   "execution_count": 17,
   "metadata": {},
   "outputs": [
    {
     "name": "stdout",
     "output_type": "stream",
     "text": [
      "<generator object my_range at 0x00000216442547C0>\n",
      "[1, 2, 3, 4, 5, 6, 7, 8, 9, 10]\n"
     ]
    }
   ],
   "source": [
    "def my_range(start: int, end: int, step: int = 1):\n",
    "    for i in range(start, end + 1, step):\n",
    "        yield i     # yield Used in Generator Function\n",
    "    \n",
    "a = my_range(1,10)\n",
    "\n",
    "print(a)\n",
    "print(list(a))"
   ]
  },
  {
   "cell_type": "code",
   "execution_count": 21,
   "metadata": {},
   "outputs": [
    {
     "name": "stdout",
     "output_type": "stream",
     "text": [
      "1\n",
      "2\n"
     ]
    }
   ],
   "source": [
    "a = my_range(1,10)\n",
    "\n",
    "print(next(a))  # Next function Iterate Singe Value at atime\n",
    "print(next(a))"
   ]
  },
  {
   "cell_type": "markdown",
   "metadata": {},
   "source": [
    "### GENERATOR FUNCTION with Type (IMPORTANT)\n",
    "```\n",
    "a function that returns an iterator that produces a sequence of values when iterated over. Generators are useful when we want to produce a large sequence of values, but we don't want to store all of them in memory at once.\n",
    "```"
   ]
  },
  {
   "cell_type": "code",
   "execution_count": null,
   "metadata": {},
   "outputs": [],
   "source": [
    "from collections.abc import Iterator\n",
    "\n",
    "\n",
    "MyDictT = dict[str, object]\n",
    "\n",
    "def yield_func() -> Iterator[MyDictT]:\n",
    "    a: MyDictT = {}\n",
    "    b: MyDictT = {}\n",
    "    ...\n",
    "    yield a\n",
    "    yield b"
   ]
  },
  {
   "cell_type": "code",
   "execution_count": 26,
   "metadata": {},
   "outputs": [
    {
     "name": "stdout",
     "output_type": "stream",
     "text": [
      "1\n",
      "2\n",
      "<class 'generator'>\n"
     ]
    }
   ],
   "source": [
    "from collections.abc import Iterator\n",
    "\n",
    "\n",
    "def my_range(start: int, end: int, step: int = 1) -> Iterator[int]:\n",
    "    for i in range(start, end + 1, step):\n",
    "        yield i     # yield Used in Generator Function\n",
    "\n",
    "\n",
    "iteratable_function: Iterator[int] = my_range(1, 10)\n",
    "\n",
    "print(next(iteratable_function))\n",
    "print(next(iteratable_function))\n",
    "print(type(iteratable_function))"
   ]
  },
  {
   "cell_type": "code",
   "execution_count": 27,
   "metadata": {},
   "outputs": [
    {
     "data": {
      "text/plain": [
       "['__class__',\n",
       " '__del__',\n",
       " '__delattr__',\n",
       " '__dir__',\n",
       " '__doc__',\n",
       " '__eq__',\n",
       " '__format__',\n",
       " '__ge__',\n",
       " '__getattribute__',\n",
       " '__getstate__',\n",
       " '__gt__',\n",
       " '__hash__',\n",
       " '__init__',\n",
       " '__init_subclass__',\n",
       " '__iter__',\n",
       " '__le__',\n",
       " '__lt__',\n",
       " '__name__',\n",
       " '__ne__',\n",
       " '__new__',\n",
       " '__next__',\n",
       " '__qualname__',\n",
       " '__reduce__',\n",
       " '__reduce_ex__',\n",
       " '__repr__',\n",
       " '__setattr__',\n",
       " '__sizeof__',\n",
       " '__str__',\n",
       " '__subclasshook__',\n",
       " 'close',\n",
       " 'gi_code',\n",
       " 'gi_frame',\n",
       " 'gi_running',\n",
       " 'gi_suspended',\n",
       " 'gi_yieldfrom',\n",
       " 'send',\n",
       " 'throw']"
      ]
     },
     "execution_count": 27,
     "metadata": {},
     "output_type": "execute_result"
    }
   ],
   "source": [
    "dir(iteratable_function)"
   ]
  },
  {
   "cell_type": "code",
   "execution_count": 28,
   "metadata": {},
   "outputs": [
    {
     "name": "stdout",
     "output_type": "stream",
     "text": [
      "3\n",
      "4\n",
      "5\n",
      "6\n",
      "7\n",
      "8\n",
      "9\n",
      "10\n"
     ]
    }
   ],
   "source": [
    "for i in iteratable_function:\n",
    "    print(i)"
   ]
  },
  {
   "cell_type": "markdown",
   "metadata": {},
   "source": [
    "## Pass Unlimited Arguments"
   ]
  },
  {
   "cell_type": "code",
   "execution_count": 29,
   "metadata": {},
   "outputs": [
    {
     "name": "stdout",
     "output_type": "stream",
     "text": [
      "(1, 2, 3, 4, 5, 6) <class 'tuple'>\n"
     ]
    },
    {
     "data": {
      "text/plain": [
       "21"
      ]
     },
     "execution_count": 29,
     "metadata": {},
     "output_type": "execute_result"
    }
   ],
   "source": [
    "def abc(*nums):\n",
    "    print(nums, type(nums))\n",
    "    total = 0\n",
    "    for n in nums:\n",
    "        total += n\n",
    "    \n",
    "    return total\n",
    "\n",
    "abc(1, 2, 3, 4, 5, 6)"
   ]
  },
  {
   "cell_type": "code",
   "execution_count": 30,
   "metadata": {},
   "outputs": [
    {
     "name": "stdout",
     "output_type": "stream",
     "text": [
      "{'a': 7, 'b': 20, 'c': 1, 'name': 'Saboor Hussian'} <class 'dict'>\n"
     ]
    }
   ],
   "source": [
    "def xyz(**kargs):   # Key word Arguments\n",
    "    print(kargs, type(kargs))\n",
    "\n",
    "xyz(a=7, b=20, c=1, name=\"Saboor Hussian\")\n",
    "\n",
    "# It gaves the Output in Dictionary\n"
   ]
  },
  {
   "cell_type": "code",
   "execution_count": 34,
   "metadata": {},
   "outputs": [
    {
     "name": "stdout",
     "output_type": "stream",
     "text": [
      "1 2 (3, 11, 12, 33) {'abc': 'abc', 'num': 123}\n"
     ]
    }
   ],
   "source": [
    "def my_function(a,b,*abc,**xyz):\n",
    "    print(a,b,abc,xyz)\n",
    "\n",
    "my_function(1,2,3 ,11,12,33, abc=\"abc\" ,num=123)"
   ]
  },
  {
   "cell_type": "code",
   "execution_count": 35,
   "metadata": {},
   "outputs": [
    {
     "name": "stdout",
     "output_type": "stream",
     "text": [
      "{'a': 'Pakistan', 'b': 'China'}\n"
     ]
    }
   ],
   "source": [
    "from typing import Dict\n",
    "\n",
    "def greet(**xyz: Dict[str,str]) ->None:\n",
    "    print(xyz)\n",
    "\n",
    "greet(a=\"Pakistan\" , b=\"China\")"
   ]
  },
  {
   "cell_type": "code",
   "execution_count": 38,
   "metadata": {},
   "outputs": [
    {
     "name": "stdout",
     "output_type": "stream",
     "text": [
      "1 2 (5, 5, 6, 6) {'c': 20, 'd': 30, 'x': 100}\n"
     ]
    }
   ],
   "source": [
    "from typing import Tuple\n",
    "\n",
    "\n",
    "def my_function(a: int, b: int, *abc: int, **xyz: Dict[str, int]) -> None:\n",
    "    print(a, b, abc, xyz)\n",
    "\n",
    "\n",
    "my_function(1, 2, 5, 5, 6, 6, c=20, d=30, x=100)"
   ]
  },
  {
   "cell_type": "markdown",
   "metadata": {},
   "source": [
    "## Decorator Function"
   ]
  },
  {
   "cell_type": "code",
   "execution_count": null,
   "metadata": {},
   "outputs": [],
   "source": []
  }
 ],
 "metadata": {
  "kernelspec": {
   "display_name": "Python 3",
   "language": "python",
   "name": "python3"
  },
  "language_info": {
   "codemirror_mode": {
    "name": "ipython",
    "version": 3
   },
   "file_extension": ".py",
   "mimetype": "text/x-python",
   "name": "python",
   "nbconvert_exporter": "python",
   "pygments_lexer": "ipython3",
   "version": "3.11.0"
  }
 },
 "nbformat": 4,
 "nbformat_minor": 2
}
