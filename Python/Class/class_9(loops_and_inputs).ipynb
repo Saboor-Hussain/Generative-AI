{
 "cells": [
  {
   "cell_type": "markdown",
   "metadata": {},
   "source": [
    "# Loops\n",
    "* while\n",
    "* for\n",
    "\n",
    "# Input from user\n",
    "* input function\n",
    "* sys.argv (for console input in abc.py file)\n",
    "   "
   ]
  },
  {
   "cell_type": "markdown",
   "metadata": {},
   "source": [
    "## For Loop"
   ]
  },
  {
   "cell_type": "markdown",
   "metadata": {},
   "source": [
    "### Iteration"
   ]
  },
  {
   "cell_type": "code",
   "execution_count": 1,
   "metadata": {},
   "outputs": [
    {
     "name": "stdout",
     "output_type": "stream",
     "text": [
      "1\n",
      "2\n",
      "3\n",
      "4\n",
      "5\n",
      "6\n"
     ]
    }
   ],
   "source": [
    "l1: list[int] = [1,2,3,4,5,6]\n",
    "\n",
    "for n in l1:    # for n in [1,2,3,4,5,6]:\n",
    "    print(n)\n"
   ]
  },
  {
   "cell_type": "code",
   "execution_count": 2,
   "metadata": {},
   "outputs": [
    {
     "name": "stdout",
     "output_type": "stream",
     "text": [
      "current character: 1\n",
      "current character: 2\n",
      "current character: 3\n",
      "current character: 4\n",
      "current character: 5\n",
      "current character: 6\n"
     ]
    }
   ],
   "source": [
    "#           01234567\n",
    "li : str = \"Pakistan\"\n",
    "\n",
    "for c in l1:\n",
    "    print(f\"current character: {c}\")"
   ]
  },
  {
   "cell_type": "code",
   "execution_count": 4,
   "metadata": {},
   "outputs": [
    {
     "ename": "KeyError",
     "evalue": "1",
     "output_type": "error",
     "traceback": [
      "\u001b[1;31m---------------------------------------------------------------------------\u001b[0m",
      "\u001b[1;31mKeyError\u001b[0m                                  Traceback (most recent call last)",
      "\u001b[1;32md:\\Studies\\Web3&Metaverse\\Generative AI\\Python\\Class\\class_9(loops_and_inputs).ipynb Cell 6\u001b[0m line \u001b[0;36m5\n\u001b[0;32m      <a href='vscode-notebook-cell:/d%3A/Studies/Web3%26Metaverse/Generative%20AI/Python/Class/class_9%28loops_and_inputs%29.ipynb#W5sZmlsZQ%3D%3D?line=1'>2</a>\u001b[0m li: \u001b[39mset\u001b[39m[\u001b[39mstr\u001b[39m,\u001b[39mstr\u001b[39m] \u001b[39m=\u001b[39m{\u001b[39m\"\u001b[39m\u001b[39mname\u001b[39m\u001b[39m\"\u001b[39m:\u001b[39m\"\u001b[39m\u001b[39mSaboor Hussain\u001b[39m\u001b[39m\"\u001b[39m, \u001b[39m\"\u001b[39m\u001b[39mfname\u001b[39m\u001b[39m\"\u001b[39m:\u001b[39m\"\u001b[39m\u001b[39mSyed Ali Khalid\u001b[39m\u001b[39m\"\u001b[39m}\n\u001b[0;32m      <a href='vscode-notebook-cell:/d%3A/Studies/Web3%26Metaverse/Generative%20AI/Python/Class/class_9%28loops_and_inputs%29.ipynb#W5sZmlsZQ%3D%3D?line=3'>4</a>\u001b[0m \u001b[39mfor\u001b[39;00m k \u001b[39min\u001b[39;00m l1:\n\u001b[1;32m----> <a href='vscode-notebook-cell:/d%3A/Studies/Web3%26Metaverse/Generative%20AI/Python/Class/class_9%28loops_and_inputs%29.ipynb#W5sZmlsZQ%3D%3D?line=4'>5</a>\u001b[0m     \u001b[39mprint\u001b[39m(\u001b[39mf\u001b[39m\u001b[39m\"\u001b[39m\u001b[39mdictionary key \u001b[39m\u001b[39m{\u001b[39;00mk\u001b[39m}\u001b[39;00m\u001b[39m and value is \u001b[39m\u001b[39m{\u001b[39;00mli[k]\u001b[39m}\u001b[39;00m\u001b[39m\"\u001b[39m)\n",
      "\u001b[1;31mKeyError\u001b[0m: 1"
     ]
    }
   ],
   "source": [
    "#       Iteration Perform on Keys\n",
    "li: dict[str,str] ={\"name\":\"Saboor Hussain\", \"fname\":\"Syed Ali Khalid\"}\n",
    "\n",
    "for k in l1:\n",
    "    print(f\"dictionary key {k} and value is {li[k]}\")"
   ]
  },
  {
   "cell_type": "code",
   "execution_count": 6,
   "metadata": {},
   "outputs": [
    {
     "name": "stdout",
     "output_type": "stream",
     "text": [
      "value from list of set: 1\n",
      "value from list of set: 2\n",
      "value from list of set: 3\n",
      "value from list of set: 4\n",
      "value from list of set: 5\n",
      "value from list of set: 6\n"
     ]
    }
   ],
   "source": [
    "#       Iteration Perform on Keys\n",
    "li: list[set[str,str]]=list({1,2,3,4,5,6})\n",
    "\n",
    "for k in l1:\n",
    "    print(f\"value from list of set: {k}\")"
   ]
  },
  {
   "cell_type": "markdown",
   "metadata": {},
   "source": [
    "## input from user\n",
    "* input function\n",
    "    * default type = string\n",
    "* sys.argv (for console input in abc.py file)\n",
    "    * default type = str\n",
    "    * We Use sys.argv to get input in console with file name.\n",
    "    * for e.g: pip install numpy pandas (here numpy and pandas is arguments for argv input)"
   ]
  },
  {
   "cell_type": "code",
   "execution_count": 7,
   "metadata": {},
   "outputs": [
    {
     "name": "stdout",
     "output_type": "stream",
     "text": [
      "<class 'str'>\n",
      "Welcome Saboor\n"
     ]
    }
   ],
   "source": [
    "name : str = input(\"What is your name? :\\t\")\n",
    "\n",
    "print(type(name))\n",
    "print(f\"Welcome {name}\")"
   ]
  },
  {
   "cell_type": "code",
   "execution_count": null,
   "metadata": {},
   "outputs": [],
   "source": [
    "# Use the code in .py file\n",
    "\n",
    "import sys\n",
    "\n",
    "print(\"line 1\")\n",
    "print(\"line 2\")\n",
    "\n",
    "print(sys.argv) # iterative datatype\n",
    "\n",
    "# We Use sys.argv to get input in console with file name. for e.g: pip install numpy pandas"
   ]
  },
  {
   "cell_type": "markdown",
   "metadata": {},
   "source": [
    "## Zip Function"
   ]
  },
  {
   "cell_type": "code",
   "execution_count": 12,
   "metadata": {},
   "outputs": [
    {
     "name": "stdout",
     "output_type": "stream",
     "text": [
      "[('a', 'x', 1), ('b', 'y', 2), ('c', 'z', 3)]\n"
     ]
    }
   ],
   "source": [
    "names: list[str] = ['a', 'b', \"c\"]\n",
    "fnames: list[str] = ['x', 'y', \"z\"]\n",
    "ages: list[int] = [1, 2, 3]\n",
    "\n",
    "ziped_values: list[tuple[str, str, int]] = list(zip(names, fnames, ages))\n",
    "print(ziped_values)"
   ]
  },
  {
   "cell_type": "code",
   "execution_count": 13,
   "metadata": {},
   "outputs": [
    {
     "name": "stdout",
     "output_type": "stream",
     "text": [
      "Welcome a\n",
      "Welcome b\n",
      "Welcome c\n"
     ]
    }
   ],
   "source": [
    "for name,fn,ag in zip(names , fnames, ages):\n",
    "    print(f\"Welcome {name}\")"
   ]
  },
  {
   "cell_type": "markdown",
   "metadata": {},
   "source": [
    "## While Loop\n",
    "\n",
    "```\n",
    "while condition:\n",
    "    Logic\n",
    "```"
   ]
  },
  {
   "cell_type": "code",
   "execution_count": 14,
   "metadata": {},
   "outputs": [
    {
     "name": "stdout",
     "output_type": "stream",
     "text": [
      "current number is: 1\n",
      "current number is: 2\n",
      "current number is: 3\n",
      "current number is: 4\n",
      "current number is: 5\n",
      "current number is: 6\n",
      "current number is: 7\n",
      "current number is: 8\n",
      "current number is: 9\n"
     ]
    }
   ],
   "source": [
    "flag: bool = True\n",
    "\n",
    "current_number: int = 1\n",
    "\n",
    "while flag:\n",
    "    print(f\"current number is: {current_number}\")\n",
    "    current_number += 1\n",
    "\n",
    "    if current_number == 10:    # flag false at some point\n",
    "        break"
   ]
  },
  {
   "cell_type": "code",
   "execution_count": 16,
   "metadata": {},
   "outputs": [
    {
     "name": "stdout",
     "output_type": "stream",
     "text": [
      "current index is: 0 and list value is 100\n",
      "current index is: 1 and list value is 200\n",
      "current index is: 2 and list value is 300\n"
     ]
    }
   ],
   "source": [
    "li:list[int] = [100,200,300]\n",
    "\n",
    "index: int = 0\n",
    "\n",
    "while index < len(li):\n",
    "    print(f\"current index is: {index} and list value is {li[index]}\")\n",
    "    index += 1"
   ]
  },
  {
   "cell_type": "markdown",
   "metadata": {},
   "source": [
    "### Controls\n",
    "\n",
    "* break\n",
    "* continue\n",
    "    * skip\n",
    "* pass\n"
   ]
  },
  {
   "cell_type": "code",
   "execution_count": 22,
   "metadata": {},
   "outputs": [
    {
     "name": "stdout",
     "output_type": "stream",
     "text": [
      "1\n",
      "2\n",
      "3\n",
      "4\n",
      "5\n"
     ]
    }
   ],
   "source": [
    "for i in range(1, 11):\n",
    "    print(i)\n",
    "    if i == 5:\n",
    "        break"
   ]
  },
  {
   "cell_type": "code",
   "execution_count": 24,
   "metadata": {},
   "outputs": [
    {
     "name": "stdout",
     "output_type": "stream",
     "text": [
      "2 X 1 = 2\n",
      "2 X 2 = 4\n",
      "2 X 3 = 6\n",
      "2 X 4 = 8\n",
      "2 X 5 = 10\n",
      "2 X 6 = 12\n",
      "2 X 7 = 14\n",
      "2 X 8 = 16\n",
      "2 X 9 = 18\n",
      "2 X 10 = 20\n"
     ]
    }
   ],
   "source": [
    "for i in range(1, 11):\n",
    "    print(f\"2 X {i} = {i*2}\")\n",
    "    "
   ]
  },
  {
   "cell_type": "code",
   "execution_count": 30,
   "metadata": {},
   "outputs": [
    {
     "name": "stdout",
     "output_type": "stream",
     "text": [
      "1\n",
      "2\n",
      "3\n",
      "4\n",
      "5\n",
      "6\n",
      "9\n",
      "10\n"
     ]
    }
   ],
   "source": [
    "for i in range(1, 11):\n",
    "    if i > 6 and i <= 8:\n",
    "        continue\n",
    "    print(i)"
   ]
  },
  {
   "cell_type": "code",
   "execution_count": 31,
   "metadata": {},
   "outputs": [
    {
     "name": "stdout",
     "output_type": "stream",
     "text": [
      "pakistan\n",
      "Second\n"
     ]
    }
   ],
   "source": [
    "if True:\n",
    "    pass # to avoid error. if we dont write any code in if block then it will gave error\n",
    "\n",
    "\n",
    "print(\"pakistan\")\n",
    "print(\"Second\")\n"
   ]
  },
  {
   "cell_type": "markdown",
   "metadata": {},
   "source": [
    "## some code"
   ]
  },
  {
   "cell_type": "code",
   "execution_count": null,
   "metadata": {},
   "outputs": [],
   "source": []
  },
  {
   "cell_type": "markdown",
   "metadata": {},
   "source": [
    "## Example"
   ]
  },
  {
   "cell_type": "code",
   "execution_count": 21,
   "metadata": {},
   "outputs": [
    {
     "name": "stdout",
     "output_type": "stream",
     "text": [
      "write quit or exit stop this program\n",
      "write quit or exit stop this program\n",
      "write quit or exit stop this program\n",
      "write quit or exit stop this program\n",
      "write quit or exit stop this program\n"
     ]
    },
    {
     "data": {
      "text/plain": [
       "[{'name': 'a', 'education': 'a'},\n",
       " {'name': 'b', 'education': 'b'},\n",
       " {'name': 'c', 'education': 'c'},\n",
       " {'name': 'saboor', 'education': 'bscs'}]"
      ]
     },
     "metadata": {},
     "output_type": "display_data"
    }
   ],
   "source": [
    "data: list[dict[str, str]] = []\n",
    "\n",
    "flag: bool = True\n",
    "\n",
    "while flag:\n",
    "    print(\"write quit or exit stop this program\")\n",
    "    name: str = input(\"your good name? \\t:\")\n",
    "    education: str = input(\"your last education? \\t:\")\n",
    "    \n",
    "    if name in ['quit','exit','close','stop'] or education in name in ['quit','exit','close','stop']:\n",
    "        flag = False\n",
    "        break\n",
    "    data.append({\n",
    "        \"name\": name,\n",
    "        \"education\": education\n",
    "    })\n",
    "\n",
    "display(data)\n"
   ]
  },
  {
   "cell_type": "code",
   "execution_count": 33,
   "metadata": {},
   "outputs": [
    {
     "data": {
      "text/plain": [
       "[1, 3, 5, 3, 15]"
      ]
     },
     "execution_count": 33,
     "metadata": {},
     "output_type": "execute_result"
    }
   ],
   "source": [
    "data: list[str] = [1, 3, 4, 5, 6, 3, 15, 18]\n",
    "\n",
    "# extract even number from this list\n",
    "[i for i in data if i % 2 == 0]\n",
    "\n",
    "# extract odd number from this list\n",
    "[i for i in data if i % 2 != 0]"
   ]
  }
 ],
 "metadata": {
  "kernelspec": {
   "display_name": "Python 3",
   "language": "python",
   "name": "python3"
  },
  "language_info": {
   "codemirror_mode": {
    "name": "ipython",
    "version": 3
   },
   "file_extension": ".py",
   "mimetype": "text/x-python",
   "name": "python",
   "nbconvert_exporter": "python",
   "pygments_lexer": "ipython3",
   "version": "3.11.0"
  }
 },
 "nbformat": 4,
 "nbformat_minor": 2
}
