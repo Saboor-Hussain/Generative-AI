{
 "cells": [
  {
   "cell_type": "markdown",
   "metadata": {},
   "source": [
    "# Dictionaries\n",
    "* key:value (items)\n",
    "    * key replacement of indexes\n",
    "    * value items\n",
    "\n",
    "* dict_variable[key]\n",
    "    * dict_variable[new_key] = new_value\n",
    "    \n"
   ]
  },
  {
   "cell_type": "code",
   "execution_count": 1,
   "metadata": {},
   "outputs": [
    {
     "name": "stdout",
     "output_type": "stream",
     "text": [
      "{'education': 'BE-CE', 'fName': 'Syed Ali Khalid', 'name': 'Saboor Hussain'}\n"
     ]
    }
   ],
   "source": [
    "# List\n",
    "data : list[str] = [\"Saboor Hussain\",\"Syed Ali Khalid\", \"BECE\"]\n",
    "\n",
    "# Dictionaries\n",
    "\n",
    "from typing import Dict , Union, Optional\n",
    "from pprint import pprint\n",
    "\n",
    "# Custom Type\n",
    "Key = Union[int,str]\n",
    "Value = Union[int,str,list,dict,tuple,set]\n",
    "\n",
    "\n",
    "data : Dict[Key,Value] = {\n",
    "                        \"name\": \"Saboor Hussain\",\n",
    "                        \"fName\":\"Syed Ali Khalid\",\n",
    "                        \"education\": \"BE-CE\"\n",
    "                    }\n",
    "\n",
    "pprint(data)"
   ]
  },
  {
   "cell_type": "markdown",
   "metadata": {},
   "source": [
    "## Updating Value of Dictionary"
   ]
  },
  {
   "cell_type": "code",
   "execution_count": 4,
   "metadata": {},
   "outputs": [],
   "source": [
    "data[\"name\"]= \"Syed Ali Saboor Hussain\""
   ]
  },
  {
   "cell_type": "markdown",
   "metadata": {},
   "source": [
    "## Set Datatype"
   ]
  },
  {
   "cell_type": "code",
   "execution_count": 10,
   "metadata": {},
   "outputs": [
    {
     "name": "stdout",
     "output_type": "stream",
     "text": [
      "{2, 18, 19, 5, 53, 12, 44}\n"
     ]
    }
   ],
   "source": [
    "data: set = {2, 12, 44, 53, 18, 5, 19}\n",
    "\n",
    "print(data)  # return unique\n",
    "# We cannot iterate Set datatype"
   ]
  },
  {
   "cell_type": "code",
   "execution_count": 11,
   "metadata": {},
   "outputs": [
    {
     "data": {
      "text/plain": [
       "['add',\n",
       " 'clear',\n",
       " 'copy',\n",
       " 'difference',\n",
       " 'difference_update',\n",
       " 'discard',\n",
       " 'intersection',\n",
       " 'intersection_update',\n",
       " 'isdisjoint',\n",
       " 'issubset',\n",
       " 'issuperset',\n",
       " 'pop',\n",
       " 'remove',\n",
       " 'symmetric_difference',\n",
       " 'symmetric_difference_update',\n",
       " 'union',\n",
       " 'update']"
      ]
     },
     "execution_count": 11,
     "metadata": {},
     "output_type": "execute_result"
    }
   ],
   "source": [
    "[i for i in dir(data) if \"__\" not in i]"
   ]
  },
  {
   "cell_type": "markdown",
   "metadata": {},
   "source": [
    "## Extracting Data"
   ]
  },
  {
   "cell_type": "code",
   "execution_count": 9,
   "metadata": {},
   "outputs": [
    {
     "name": "stdout",
     "output_type": "stream",
     "text": [
      "{0: 'pakistan',\n",
      " 'education': 'BE-CE',\n",
      " 'fName': 'Syed Ali Khalid',\n",
      " 'name': 'Saboor Hussain'}\n",
      "Saboor Hussain\n",
      "Syed Ali Khalid\n",
      "BE-CE\n",
      "pakistan\n"
     ]
    }
   ],
   "source": [
    "# Dictionaries\n",
    "from typing import Dict, Union, Optional\n",
    "from pprint import pprint\n",
    "\n",
    "# Custom Type\n",
    "Key = Union[int, str]\n",
    "Value = Union[int, str, list, dict, tuple, set]\n",
    "\n",
    "\n",
    "data: Dict[Key, Value] = {\n",
    "    \"name\": \"Saboor Hussain\",\n",
    "    \"fName\": \"Syed Ali Khalid\",\n",
    "    \"education\": \"BE-CE\",\n",
    "    0: \"pakistan\"\n",
    "}\n",
    "\n",
    "pprint(data)\n",
    "print(data[\"name\"])\n",
    "print(data[\"fName\"])\n",
    "print(data[\"education\"])\n",
    "print(data[0])  # index = key"
   ]
  },
  {
   "cell_type": "markdown",
   "metadata": {},
   "source": [
    "### ERRORS"
   ]
  },
  {
   "cell_type": "code",
   "execution_count": 14,
   "metadata": {},
   "outputs": [
    {
     "name": "stdout",
     "output_type": "stream",
     "text": [
      "{'abc': [1, 2, 3],\n",
      " 'asd': (1, 2, 3),\n",
      " 'cde': {'a': 1, 'b': '123'},\n",
      " 'education': 'BE-CE',\n",
      " 'fName': 'Syed Ali Khalid',\n",
      " 'name': 'Saboor Hussain',\n",
      " 'xyz': {1, 2, 3}}\n",
      "Saboor Hussain\n",
      "Syed Ali Khalid\n",
      "BE-CE\n"
     ]
    }
   ],
   "source": [
    "# Dictionaries\n",
    "from typing import Dict, Union, Optional\n",
    "from pprint import pprint\n",
    "\n",
    "# Custom Type\n",
    "Key = Union[int, str]\n",
    "Value = Union[int, str, list, dict, tuple, set]\n",
    "\n",
    "\n",
    "data: Dict[Key, Value] = {\n",
    "    \"name\": \"Saboor Hussain\",\n",
    "    \"fName\": \"Syed Ali Khalid\",\n",
    "    \"education\": \"BE-CE\",\n",
    "    # [1,2,3] : \"pakistan\",   # ERROR\n",
    "    # (1,2,3) : \"pakistan\",   # ERROR\n",
    "    # {1,2,3} : \"pakistan\",   # ERROR\n",
    "}\n",
    "\n",
    "pprint(data)\n",
    "print(data[\"name\"])\n",
    "print(data[\"fName\"])\n",
    "print(data[\"education\"])"
   ]
  },
  {
   "cell_type": "markdown",
   "metadata": {},
   "source": [
    "### Avoiding Error\n"
   ]
  },
  {
   "cell_type": "code",
   "execution_count": null,
   "metadata": {},
   "outputs": [],
   "source": []
  },
  {
   "cell_type": "markdown",
   "metadata": {},
   "source": [
    "## Typed Dictionaries"
   ]
  },
  {
   "cell_type": "code",
   "execution_count": 7,
   "metadata": {},
   "outputs": [
    {
     "name": "stdout",
     "output_type": "stream",
     "text": [
      "1\n",
      "Hamza\n"
     ]
    }
   ],
   "source": [
    "# Dictionaries\n",
    "from typing import Dict, Union, Optional\n",
    "from pprint import pprint\n",
    "\n",
    "# Custom Type\n",
    "Key = Union[int, str]\n",
    "Value = Union[int, str, list, dict, tuple, set]\n",
    "\n",
    "\n",
    "data: Dict[Key, Value] = {\n",
    "    \"name\": \"Saboor Hussain\",\n",
    "    \"fName\": \"Syed Ali Khalid\",\n",
    "    \"education\": \"BE-CE\",\n",
    "    \"abc\": [1, 2, 3],\n",
    "    \"xyz\": {1, 2, 3},\n",
    "    \"asd\": (1, 2, 3),\n",
    "    \"asd\": (1, 2, 3),\n",
    "    \"cde\": {\"a\": 1, \"b\": \"Hamza\"}\n",
    "}\n",
    "\n",
    "print(data[\"cde\"][\"a\"])\n",
    "print(data[\"cde\"][\"b\"])"
   ]
  },
  {
   "cell_type": "markdown",
   "metadata": {},
   "source": [
    "### Keys, Names, items"
   ]
  },
  {
   "cell_type": "code",
   "execution_count": 24,
   "metadata": {},
   "outputs": [
    {
     "name": "stdout",
     "output_type": "stream",
     "text": [
      "dict_keys(['name', 'fName', 'education'])\n",
      "dict_values(['Syed Saboor Hussain', 'Ali Khalid', 'BE-CE'])\n",
      "dict_items([('name', 'Syed Saboor Hussain'), ('fName', 'Ali Khalid'), ('education', 'BE-CE')])\n",
      "\n",
      "\n",
      "Syed Saboor Hussain\n",
      "Ali Khalid\n",
      "BE-CE\n"
     ]
    }
   ],
   "source": [
    "print(data.keys())    # Keys\n",
    "print(data.values())    # Values\n",
    "print(data.items())    # items\n",
    "\n",
    "print(\"\\n\")\n",
    "for value in data.values():\n",
    "    print(value)"
   ]
  },
  {
   "cell_type": "code",
   "execution_count": 6,
   "metadata": {},
   "outputs": [
    {
     "name": "stdout",
     "output_type": "stream",
     "text": [
      "dict_keys(['name', 'fName', 'education', 'abc', 'xyz', 'asd', 'cde'])\n",
      "dict_values(['Syed Ali Saboor Hussain', 'Syed Ali Khalid', 'BE-CE', [1, 2, 3], {1, 2, 3}, (1, 2, 3), {'a': 1, 'b': 'Hamza'}])\n",
      "dict_items([('name', 'Syed Ali Saboor Hussain'), ('fName', 'Syed Ali Khalid'), ('education', 'BE-CE'), ('abc', [1, 2, 3]), ('xyz', {1, 2, 3}), ('asd', (1, 2, 3)), ('cde', {'a': 1, 'b': 'Hamza'})])\n",
      "\n",
      "\n",
      "name\n",
      "Syed Ali Saboor Hussain\n",
      "fName\n",
      "Syed Ali Khalid\n",
      "education\n",
      "BE-CE\n",
      "abc\n",
      "[1, 2, 3]\n",
      "xyz\n",
      "{1, 2, 3}\n",
      "asd\n",
      "(1, 2, 3)\n",
      "cde\n",
      "{'a': 1, 'b': 'Hamza'}\n"
     ]
    },
    {
     "data": {
      "text/plain": [
       "{'name': 'Syed Ali Saboor Hussain',\n",
       " 'fName': 'Syed Ali Khalid',\n",
       " 'education': 'BE-CE',\n",
       " 'abc': [1, 2, 3],\n",
       " 'xyz': {1, 2, 3},\n",
       " 'asd': (1, 2, 3),\n",
       " 'cde': {'a': 1, 'b': 'Hamza'}}"
      ]
     },
     "execution_count": 6,
     "metadata": {},
     "output_type": "execute_result"
    }
   ],
   "source": [
    "print(data.keys())    # Keys\n",
    "print(data.values())    # Values\n",
    "print(data.items())    # items\n",
    "\n",
    "print(\"\\n\")\n",
    "for key, value in data.items():\n",
    "    print(key)\n",
    "    print(value)\n",
    "\n",
    "# List Comprehension\n",
    "{key: value for key, value in data.items()}"
   ]
  },
  {
   "cell_type": "markdown",
   "metadata": {},
   "source": [
    "### Shuffling List Comprehension"
   ]
  },
  {
   "cell_type": "code",
   "execution_count": 5,
   "metadata": {},
   "outputs": [
    {
     "data": {
      "text/plain": [
       "{'name': 'Syed Ali Saboor Hussain',\n",
       " 'fName': 'Syed Ali Khalid',\n",
       " 'education': 'BE-CE',\n",
       " 'abc': [1, 2, 3],\n",
       " 'xyz': {1, 2, 3},\n",
       " 'asd': (1, 2, 3),\n",
       " 'cde': {'a': 1, 'b': 'Hamza'}}"
      ]
     },
     "execution_count": 5,
     "metadata": {},
     "output_type": "execute_result"
    }
   ],
   "source": [
    "#Shuffle\n",
    "# List Comprehension\n",
    "{value: key for value, key in data.items()}"
   ]
  },
  {
   "cell_type": "code",
   "execution_count": 39,
   "metadata": {},
   "outputs": [
    {
     "name": "stdout",
     "output_type": "stream",
     "text": [
      "{}\n",
      "{'e': None, 'd': None, 'u': None, 'c': None, 'a': None, 't': None, 'i': None, 'o': None, 'n': None}\n"
     ]
    },
    {
     "data": {
      "text/plain": [
       "['clear',\n",
       " 'copy',\n",
       " 'fromkeys',\n",
       " 'get',\n",
       " 'items',\n",
       " 'keys',\n",
       " 'pop',\n",
       " 'popitem',\n",
       " 'setdefault',\n",
       " 'update',\n",
       " 'values']"
      ]
     },
     "execution_count": 39,
     "metadata": {},
     "output_type": "execute_result"
    }
   ],
   "source": [
    "keys: list[str] = [\"id\", \"name\", \"fname\", \"course\"]\n",
    "\n",
    "data: dict[Key, Value] = {}\n",
    "\n",
    "print(data)\n",
    "\n",
    "data = data.fromkeys(key)  # Inline\n",
    "print(data)"
   ]
  }
 ],
 "metadata": {
  "kernelspec": {
   "display_name": "Python 3",
   "language": "python",
   "name": "python3"
  },
  "language_info": {
   "codemirror_mode": {
    "name": "ipython",
    "version": 3
   },
   "file_extension": ".py",
   "mimetype": "text/x-python",
   "name": "python",
   "nbconvert_exporter": "python",
   "pygments_lexer": "ipython3",
   "version": "3.11.0"
  }
 },
 "nbformat": 4,
 "nbformat_minor": 2
}
