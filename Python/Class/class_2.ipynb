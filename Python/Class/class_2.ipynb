{
 "cells": [
  {
   "cell_type": "markdown",
   "metadata": {},
   "source": [
    "## String Datatype in python\n"
   ]
  },
  {
   "cell_type": "code",
   "execution_count": 1,
   "metadata": {},
   "outputs": [
    {
     "name": "stdout",
     "output_type": "stream",
     "text": [
      "<class 'str'>\n",
      "Saboor Hussain\n"
     ]
    }
   ],
   "source": [
    "#boundries \n",
    "# 'string text' , \"string text\" , ''' string ''' , \"\"\" string text \"\"\"\n",
    "\n",
    "name: str = \"Saboor Hussain\"\n",
    "name1: str = 'Saboor Hussain'\n",
    "\n",
    "print(type(name))\n",
    "print(name)"
   ]
  },
  {
   "cell_type": "code",
   "execution_count": null,
   "metadata": {},
   "outputs": [],
   "source": [
    "# Error of Single Quote\n",
    "message: str = 'PIAIC Student Card \\n father's Name'\n",
    "\n",
    "# Solution\n",
    "message: str = \"PIAIC Student Card \\n father's Name\"\n",
    "\n",
    "# Or   (We can use double Quote in Single Quote)\n",
    "message: str = 'PIAIC \"Student Card\" \\n father Name'\n"
   ]
  },
  {
   "cell_type": "markdown",
   "metadata": {},
   "source": [
    "### BACKSLASH ( \\ )"
   ]
  },
  {
   "cell_type": "code",
   "execution_count": 12,
   "metadata": {},
   "outputs": [
    {
     "name": "stdout",
     "output_type": "stream",
     "text": [
      "17\n"
     ]
    }
   ],
   "source": [
    "# Convert any special character into simplpe character, place \\ before character\n",
    "message: str = 'PIAIC Student Card \\n father\\'s Name'\n",
    "\n",
    "print (7 + \\\n",
    "       8 + \\\n",
    "        2)"
   ]
  },
  {
   "cell_type": "markdown",
   "metadata": {},
   "source": [
    "### Concatination\n",
    "\n"
   ]
  },
  {
   "cell_type": "code",
   "execution_count": 13,
   "metadata": {},
   "outputs": [
    {
     "name": "stdout",
     "output_type": "stream",
     "text": [
      "PIAIC Student Card\n",
      "Student Name: Saboor Hussain\n",
      "Age30\n",
      "\n"
     ]
    }
   ],
   "source": [
    "name : str = \"Saboor Hussain\"\n",
    "fname : str = \"Syed Ali Khalid\"\n",
    "education : str = \"BS CE\"\n",
    "age : int = 30\n",
    "\n",
    "\n",
    "card : str = \"PIAIC Student Card\\nStudent Name: \" + name + \\\n",
    "\"\\nAge\" + str(age) + \"\\n\"\n",
    "\"\\Father Name\" + str(age) + \"\\n\"\n",
    "\n",
    "\n",
    "print(card)"
   ]
  },
  {
   "cell_type": "markdown",
   "metadata": {},
   "source": [
    "### Triple Quatation String or Mutiline String ( \"\"\" , ''')"
   ]
  },
  {
   "cell_type": "code",
   "execution_count": 18,
   "metadata": {},
   "outputs": [
    {
     "name": "stdout",
     "output_type": "stream",
     "text": [
      "\n",
      "PIAIC Student Card\n",
      "Student Name : Saboor\n",
      "Father's Name : Ali Khalid\n",
      "Age : 30\n",
      "\n",
      "\n",
      "PIAIC Student Card\n",
      "Student Name : Saboor\n",
      "Father's Name : Ali Khalid\n",
      "Age : 30\n",
      "\n"
     ]
    }
   ],
   "source": [
    "double_quatation_card : str = \"\"\"\n",
    "PIAIC Student Card\n",
    "Student Name : Saboor\n",
    "Father's Name : Ali Khalid\n",
    "Age : 30\n",
    "\"\"\"\n",
    "single_quatation_card : str = '''\n",
    "PIAIC Student Card\n",
    "Student Name : Saboor\n",
    "Father's Name : Ali Khalid\n",
    "Age : 30\n",
    "'''\n",
    "\n",
    "print(double_quatation_card)\n",
    "print(single_quatation_card)"
   ]
  },
  {
   "cell_type": "markdown",
   "metadata": {},
   "source": [
    "### F-String Python ( Recommanded )"
   ]
  },
  {
   "cell_type": "code",
   "execution_count": 28,
   "metadata": {},
   "outputs": [
    {
     "ename": "TypeError",
     "evalue": "not enough arguments for format string",
     "output_type": "error",
     "traceback": [
      "\u001b[1;31m---------------------------------------------------------------------------\u001b[0m",
      "\u001b[1;31mTypeError\u001b[0m                                 Traceback (most recent call last)",
      "\u001b[1;32md:\\Studies\\Web3&Metaverse\\Data Science\\python\\class_01\\class_2.ipynb Cell 11\u001b[0m line \u001b[0;36m1\n\u001b[0;32m      <a href='vscode-notebook-cell:/d%3A/Studies/Web3%26Metaverse/Data%20Science/python/class_01/class_2.ipynb#X13sZmlsZQ%3D%3D?line=6'>7</a>\u001b[0m card : \u001b[39mstr\u001b[39m \u001b[39m=\u001b[39m \u001b[39mf\u001b[39m\u001b[39m\"\"\"\u001b[39m\n\u001b[0;32m      <a href='vscode-notebook-cell:/d%3A/Studies/Web3%26Metaverse/Data%20Science/python/class_01/class_2.ipynb#X13sZmlsZQ%3D%3D?line=7'>8</a>\u001b[0m \u001b[39mPIAIC Student Card\u001b[39m\n\u001b[0;32m      <a href='vscode-notebook-cell:/d%3A/Studies/Web3%26Metaverse/Data%20Science/python/class_01/class_2.ipynb#X13sZmlsZQ%3D%3D?line=8'>9</a>\u001b[0m \u001b[39mStudent Name : \u001b[39m\u001b[39m{\u001b[39;00mname\u001b[39m}\u001b[39;00m\n\u001b[1;32m   (...)\u001b[0m\n\u001b[0;32m     <a href='vscode-notebook-cell:/d%3A/Studies/Web3%26Metaverse/Data%20Science/python/class_01/class_2.ipynb#X13sZmlsZQ%3D%3D?line=12'>13</a>\u001b[0m \u001b[39mTotal \u001b[39m\u001b[39m{\u001b[39;00m\u001b[39m2\u001b[39m\u001b[39m \u001b[39m\u001b[39m+\u001b[39m\u001b[39m \u001b[39m\u001b[39m8\u001b[39m\u001b[39m \u001b[39m\u001b[39m+\u001b[39m\u001b[39m \u001b[39m\u001b[39m9\u001b[39m\u001b[39m \u001b[39m\u001b[39m+\u001b[39m\u001b[39m \u001b[39m\u001b[39m3\u001b[39m\u001b[39m}\u001b[39;00m\u001b[39m \u001b[39m\n\u001b[0;32m     <a href='vscode-notebook-cell:/d%3A/Studies/Web3%26Metaverse/Data%20Science/python/class_01/class_2.ipynb#X13sZmlsZQ%3D%3D?line=13'>14</a>\u001b[0m \u001b[39m\"\"\"\u001b[39m\n\u001b[0;32m     <a href='vscode-notebook-cell:/d%3A/Studies/Web3%26Metaverse/Data%20Science/python/class_01/class_2.ipynb#X13sZmlsZQ%3D%3D?line=15'>16</a>\u001b[0m \u001b[39m# Old\u001b[39;00m\n\u001b[1;32m---> <a href='vscode-notebook-cell:/d%3A/Studies/Web3%26Metaverse/Data%20Science/python/class_01/class_2.ipynb#X13sZmlsZQ%3D%3D?line=16'>17</a>\u001b[0m card1 : \u001b[39mstr\u001b[39m \u001b[39m=\u001b[39m \u001b[39mf\u001b[39;49m\u001b[39m\"\"\"\u001b[39;49m\n\u001b[0;32m     <a href='vscode-notebook-cell:/d%3A/Studies/Web3%26Metaverse/Data%20Science/python/class_01/class_2.ipynb#X13sZmlsZQ%3D%3D?line=17'>18</a>\u001b[0m \u001b[39mPIAIC Student Card\u001b[39;49m\n\u001b[0;32m     <a href='vscode-notebook-cell:/d%3A/Studies/Web3%26Metaverse/Data%20Science/python/class_01/class_2.ipynb#X13sZmlsZQ%3D%3D?line=18'>19</a>\u001b[0m \u001b[39mStudent Name : %s\u001b[39;49m\n\u001b[0;32m     <a href='vscode-notebook-cell:/d%3A/Studies/Web3%26Metaverse/Data%20Science/python/class_01/class_2.ipynb#X13sZmlsZQ%3D%3D?line=19'>20</a>\u001b[0m \u001b[39mFather\u001b[39;49m\u001b[39m'\u001b[39;49m\u001b[39ms Name : %s\u001b[39;49m\n\u001b[0;32m     <a href='vscode-notebook-cell:/d%3A/Studies/Web3%26Metaverse/Data%20Science/python/class_01/class_2.ipynb#X13sZmlsZQ%3D%3D?line=20'>21</a>\u001b[0m \u001b[39mage : %d\u001b[39;49m\n\u001b[0;32m     <a href='vscode-notebook-cell:/d%3A/Studies/Web3%26Metaverse/Data%20Science/python/class_01/class_2.ipynb#X13sZmlsZQ%3D%3D?line=21'>22</a>\u001b[0m \n\u001b[0;32m     <a href='vscode-notebook-cell:/d%3A/Studies/Web3%26Metaverse/Data%20Science/python/class_01/class_2.ipynb#X13sZmlsZQ%3D%3D?line=22'>23</a>\u001b[0m \u001b[39mTotal \u001b[39;49m\u001b[39m{\u001b[39;49;00m\u001b[39m2\u001b[39;49m\u001b[39m \u001b[39;49m\u001b[39m+\u001b[39;49m\u001b[39m \u001b[39;49m\u001b[39m8\u001b[39;49m\u001b[39m \u001b[39;49m\u001b[39m+\u001b[39;49m\u001b[39m \u001b[39;49m\u001b[39m9\u001b[39;49m\u001b[39m \u001b[39;49m\u001b[39m+\u001b[39;49m\u001b[39m \u001b[39;49m\u001b[39m3\u001b[39;49m\u001b[39m}\u001b[39;49;00m\u001b[39m \u001b[39;49m\n\u001b[0;32m     <a href='vscode-notebook-cell:/d%3A/Studies/Web3%26Metaverse/Data%20Science/python/class_01/class_2.ipynb#X13sZmlsZQ%3D%3D?line=23'>24</a>\u001b[0m \u001b[39m\"\"\"\u001b[39;49m \u001b[39m%\u001b[39;49m {name , fname , age}\n\u001b[0;32m     <a href='vscode-notebook-cell:/d%3A/Studies/Web3%26Metaverse/Data%20Science/python/class_01/class_2.ipynb#X13sZmlsZQ%3D%3D?line=25'>26</a>\u001b[0m \u001b[39mprint\u001b[39m(card)\n\u001b[0;32m     <a href='vscode-notebook-cell:/d%3A/Studies/Web3%26Metaverse/Data%20Science/python/class_01/class_2.ipynb#X13sZmlsZQ%3D%3D?line=26'>27</a>\u001b[0m \u001b[39m# print(card1)\u001b[39;00m\n",
      "\u001b[1;31mTypeError\u001b[0m: not enough arguments for format string"
     ]
    }
   ],
   "source": [
    "name : str = \"Saboor Hussain\"\n",
    "fname : str = \"Syed Ali Khalid\"\n",
    "education : str = \"BS CE\"\n",
    "age : int = 30\n",
    "\n",
    "\n",
    "card : str = f\"\"\"\n",
    "PIAIC Student Card\n",
    "Student Name : {name}\n",
    "Father's Name : {fname}\n",
    "age : {age}\n",
    "\n",
    "Total {2 + 8 + 9 + 3} \n",
    "\"\"\"\n",
    "\n",
    "# Old\n",
    "card1 : str = f\"\"\"\n",
    "PIAIC Student Card\n",
    "Student Name : %s\n",
    "Father's Name : %s\n",
    "age : %d\n",
    "\n",
    "Total {2 + 8 + 9 + 3} \n",
    "\"\"\" % {name , fname , age}\n",
    "\n",
    "print(card)\n",
    "# print(card1)"
   ]
  },
  {
   "cell_type": "markdown",
   "metadata": {},
   "source": [
    "### F-string and Jinja Style (Used in Django)\n",
    "* Must be connected with server"
   ]
  },
  {
   "cell_type": "code",
   "execution_count": null,
   "metadata": {},
   "outputs": [],
   "source": [
    "# F-String\n",
    "\"\"\"\n",
    "student name {name}\n",
    "\"\"\"\n",
    "\n",
    "# Jinja Style\n",
    "\"\"\"\n",
    "student name {{name}}\n",
    "\"\"\""
   ]
  },
  {
   "cell_type": "markdown",
   "metadata": {},
   "source": [
    "### List Comprehension"
   ]
  },
  {
   "cell_type": "code",
   "execution_count": 26,
   "metadata": {},
   "outputs": [
    {
     "name": "stdout",
     "output_type": "stream",
     "text": [
      "saboor hussain\n",
      "Saboor hussain\n"
     ]
    }
   ],
   "source": [
    "name : str = \"SaBoOr huSSaIn\"\n",
    "\n",
    "print(name.lower())\n",
    "print(name.capitalize())"
   ]
  },
  {
   "cell_type": "code",
   "execution_count": 27,
   "metadata": {},
   "outputs": [
    {
     "data": {
      "text/plain": [
       "'pakistan value a = 7 and value b = 8'"
      ]
     },
     "execution_count": 27,
     "metadata": {},
     "output_type": "execute_result"
    }
   ],
   "source": [
    "# .format() is also a part of F-String\n",
    "\n",
    "a = 7\n",
    "b = 8\n",
    "\n",
    "# {} place holder\n",
    "\"pakistan value a = {} and value b = {}\".format(a,b)"
   ]
  },
  {
   "cell_type": "code",
   "execution_count": 33,
   "metadata": {},
   "outputs": [
    {
     "name": "stdout",
     "output_type": "stream",
     "text": [
      "\n",
      "PIAIC Student Card\n",
      "Student Name : Saboor Hussain\n",
      "Father's Name : Syed Ali Khalid\n",
      "age : 30\n",
      "\n",
      "\n",
      "PIAIC Student Card\n",
      "Student Name : Saboor Hussain\n",
      "Father's Name : Syed Ali Khalid\n",
      "age : 30\n",
      "\n"
     ]
    }
   ],
   "source": [
    "name : str = \"Saboor Hussain\"\n",
    "fname : str = \"Syed Ali Khalid\"\n",
    "age : int = 30\n",
    "\n",
    "\n",
    "card : str = \"\"\"\n",
    "PIAIC Student Card\n",
    "Student Name : {1}\n",
    "Father's Name : {0}\n",
    "age : {2}\n",
    "\"\"\".format(fname, name, age)\n",
    "# index:    0       1    2\n",
    "\n",
    "\n",
    "card1 : str = \"\"\"\n",
    "PIAIC Student Card\n",
    "Student Name : {a}\n",
    "Father's Name : {b}\n",
    "age : {c}\n",
    "\"\"\".format(b = fname, a = name, c = age)\n",
    "# index:    0             1      2\n",
    "\n",
    "print(card)\n",
    "print(card1)"
   ]
  },
  {
   "cell_type": "code",
   "execution_count": 37,
   "metadata": {},
   "outputs": [
    {
     "name": "stdout",
     "output_type": "stream",
     "text": [
      "My Name is Saboor Hussian\n",
      "4\n"
     ]
    }
   ],
   "source": [
    "student_code : str = \"\"\"\n",
    "print(\"My Name is Saboor Hussian\")\n",
    "a : int = 2\n",
    "b : int = 2\n",
    "\n",
    "print ( a + b)\n",
    "\"\"\"\n",
    "\n",
    "exec (student_code)"
   ]
  },
  {
   "cell_type": "markdown",
   "metadata": {},
   "source": [
    "### Methods and Strings"
   ]
  },
  {
   "cell_type": "code",
   "execution_count": 42,
   "metadata": {},
   "outputs": [
    {
     "name": "stdout",
     "output_type": "stream",
     "text": [
      "['capitalize', 'casefold', 'center', 'count', 'encode', 'endswith', 'expandtabs', 'find', 'format', 'format_map', 'index', 'isalnum', 'isalpha', 'isascii', 'isdecimal', 'isdigit', 'isidentifier', 'islower', 'isnumeric', 'isprintable', 'isspace', 'istitle', 'isupper', 'join', 'ljust', 'lower', 'lstrip', 'maketrans', 'partition', 'removeprefix', 'removesuffix', 'replace', 'rfind', 'rindex', 'rjust', 'rpartition', 'rsplit', 'rstrip', 'split', 'splitlines', 'startswith', 'strip', 'swapcase', 'title', 'translate', 'upper', 'zfill']\n",
      "47\n"
     ]
    }
   ],
   "source": [
    "a: list[str] = [i for i in dir(str) if \"__\" not in i]\n",
    "print(a)\n",
    "print(len(a))"
   ]
  },
  {
   "cell_type": "code",
   "execution_count": 47,
   "metadata": {},
   "outputs": [
    {
     "name": "stdout",
     "output_type": "stream",
     "text": [
      "Saboor hussain\n",
      "b'Saboor Hussain'\n"
     ]
    }
   ],
   "source": [
    "name : str = \"Saboor Hussain\"\n",
    "\n",
    "# variable_name.method()\n",
    "print(name.capitalize())\n"
   ]
  },
  {
   "cell_type": "code",
   "execution_count": 51,
   "metadata": {},
   "outputs": [
    {
     "data": {
      "text/plain": [
       "'     Saboor Hussain     '"
      ]
     },
     "metadata": {},
     "output_type": "display_data"
    },
    {
     "data": {
      "text/plain": [
       "'Saboor Hussain     '"
      ]
     },
     "metadata": {},
     "output_type": "display_data"
    },
    {
     "data": {
      "text/plain": [
       "'     Saboor Hussain'"
      ]
     },
     "metadata": {},
     "output_type": "display_data"
    },
    {
     "data": {
      "text/plain": [
       "'Saboor Hussain'"
      ]
     },
     "metadata": {},
     "output_type": "display_data"
    }
   ],
   "source": [
    "name : str = \"     Saboor Hussain     \"\n",
    "\n",
    "# variable_name.method()\n",
    "display(name)\n",
    "display(name.lstrip()) # will remove extra spaces from left side\n",
    "display(name.rstrip()) # will remove extra spaces from right side\n",
    "display(name.strip()) # will remove extra spaces from both side\n"
   ]
  },
  {
   "cell_type": "markdown",
   "metadata": {},
   "source": [
    "### Regix"
   ]
  },
  {
   "cell_type": "code",
   "execution_count": 52,
   "metadata": {},
   "outputs": [
    {
     "data": {
      "text/plain": [
       "'         Saboor            Hussain         '"
      ]
     },
     "metadata": {},
     "output_type": "display_data"
    },
    {
     "data": {
      "text/plain": [
       "' Saboor Hussain '"
      ]
     },
     "metadata": {},
     "output_type": "display_data"
    }
   ],
   "source": [
    "import re\n",
    "\n",
    "name : str = \"         Saboor            Hussain         \"\n",
    "\n",
    "display(name)\n",
    "\n",
    "name1: str = re.sub(' {2,100}',' ', name)   # ( text limit(min,max) , replace with , variable_name)\n",
    "display(name1)"
   ]
  },
  {
   "cell_type": "markdown",
   "metadata": {},
   "source": [
    "### \\n , \\t , \\b"
   ]
  },
  {
   "cell_type": "code",
   "execution_count": null,
   "metadata": {},
   "outputs": [],
   "source": [
    "print(\"Name: \\t\\t Saboor Hussain\")\n",
    "print(\"\\nName: Saboor Hussain\")\n",
    "print(\"\\nName: \\bSaboor Hussain\")   # Remove Backspace"
   ]
  },
  {
   "cell_type": "code",
   "execution_count": 54,
   "metadata": {},
   "outputs": [
    {
     "data": {
      "text/plain": [
       "'abc.com'"
      ]
     },
     "execution_count": 54,
     "metadata": {},
     "output_type": "execute_result"
    }
   ],
   "source": [
    "nostarch: str = \"https://abc.com\"\n",
    "nostarch.removeprefix(\"https://\")"
   ]
  },
  {
   "cell_type": "markdown",
   "metadata": {},
   "source": [
    "## Naming Rules"
   ]
  },
  {
   "cell_type": "code",
   "execution_count": null,
   "metadata": {},
   "outputs": [],
   "source": [
    "# Variable Name cannot start with number\n",
    "1name : str = \"Saboor\"\n",
    "\n",
    "# use Underscore to define (Note: dont use number in the start of variable name)\n",
    "_1name : str = \"Saboor\"\n",
    "\n",
    "# Defining the typed based variable\n",
    "name : str = \"Saboor\"\n",
    "\n",
    "# Dont use spaces between variable name\n",
    "student name : str = \"saboor\"\n",
    "\n",
    "# use underscore ( \"_\" ) between variable name\n",
    "student_name : str = \"saboor\""
   ]
  }
 ],
 "metadata": {
  "kernelspec": {
   "display_name": "Python 3",
   "language": "python",
   "name": "python3"
  },
  "language_info": {
   "codemirror_mode": {
    "name": "ipython",
    "version": 3
   },
   "file_extension": ".py",
   "mimetype": "text/x-python",
   "name": "python",
   "nbconvert_exporter": "python",
   "pygments_lexer": "ipython3",
   "version": "3.11.0"
  }
 },
 "nbformat": 4,
 "nbformat_minor": 2
}
