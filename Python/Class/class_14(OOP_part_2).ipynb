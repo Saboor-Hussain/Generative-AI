{
 "cells": [
  {
   "cell_type": "markdown",
   "metadata": {},
   "source": [
    "# Overloading"
   ]
  },
  {
   "cell_type": "markdown",
   "metadata": {},
   "source": [
    "## Function Overloading\n",
    "```\n",
    "When two or more methods in a class have distinct parameters but the same method name, this is known as function overloading\n",
    "\n",
    "we make multiple signatures(overloads) \n",
    "```"
   ]
  },
  {
   "cell_type": "code",
   "execution_count": null,
   "metadata": {},
   "outputs": [
    {
     "name": "stdout",
     "output_type": "stream",
     "text": [
      "7\n",
      "8.7\n"
     ]
    }
   ],
   "source": [
    "from typing import Union, overload\n",
    "\n",
    "\n",
    "@overload\n",
    "def add(x: int, y: int) -> int:\n",
    "    ...\n",
    "\n",
    "\n",
    "@overload\n",
    "def add(x: float, y: float) -> float:\n",
    "    ...\n",
    "\n",
    "\n",
    "def add(x: Union[int, float], y: Union[int, float]) -> Union[int, float]:\n",
    "    if isinstance(x, int) and isinstance(y, int):\n",
    "        return x+y\n",
    "    elif isinstance(x, float) and isinstance(y, float):\n",
    "        return x+y\n",
    "    else:\n",
    "        raise TypeError(\"invalid arguments types!\")\n",
    "    \n",
    "# usage Examples\n",
    "result1 = add(2,5)\n",
    "result2 = add(3.2,5.5)\n",
    "\n",
    "print(result1)\n",
    "print(result2)\n",
    "\n"
   ]
  },
  {
   "cell_type": "markdown",
   "metadata": {},
   "source": [
    "## Method Overloading"
   ]
  },
  {
   "cell_type": "code",
   "execution_count": null,
   "metadata": {},
   "outputs": [
    {
     "name": "stdout",
     "output_type": "stream",
     "text": [
      "3\n",
      "5.4\n"
     ]
    }
   ],
   "source": [
    "from typing import Union, overload\n",
    "\n",
    "\n",
    "class Adder:\n",
    "    @overload\n",
    "    def add(self, x: int, y: int) -> int:\n",
    "        ...\n",
    "\n",
    "    @overload\n",
    "    def add(self, x: float, y: float) -> float:\n",
    "        ...\n",
    "\n",
    "    def add(self, x: Union[int, float], y: Union[int, float]) -> Union[int, float]:\n",
    "        if isinstance(x, int) and isinstance(y, int):\n",
    "            return x+y\n",
    "        elif isinstance(x, float) and isinstance(y, float):\n",
    "            return x+y\n",
    "        else:\n",
    "            raise TypeError(\"invalid arguments types!\")\n",
    "\n",
    "# Usage Example\n",
    "adder = Adder()\n",
    "result_1 = adder.add(1,2)\n",
    "result_2 = adder.add(2.1,3.3)\n",
    "\n",
    "print(result_1)\n",
    "print(result_2)"
   ]
  },
  {
   "cell_type": "markdown",
   "metadata": {},
   "source": [
    "# Overriding"
   ]
  },
  {
   "cell_type": "code",
   "execution_count": null,
   "metadata": {},
   "outputs": [],
   "source": [
    "class Animal():\n",
    "    def eating(self, food: str) -> None:\n",
    "        print(f\"Animal is eating {food}\")\n",
    "\n",
    "\n",
    "class Bird(Animal):\n",
    "    def eating(self, food: str) -> None:\n",
    "        print(f\"Bird is eating {food}\")\n",
    "\n",
    "myBird : Bird = Bird()\n",
    "myBird.eating(\"Bread\")\n",
    "\n",
    "myAnimal : Animal = Animal()\n",
    "myAnimal.eating(\"Grass\")"
   ]
  },
  {
   "cell_type": "markdown",
   "metadata": {},
   "source": [
    "# Pillars of OOP"
   ]
  },
  {
   "cell_type": "markdown",
   "metadata": {},
   "source": [
    "## Inheritance"
   ]
  },
  {
   "cell_type": "markdown",
   "metadata": {},
   "source": [
    "## Multiple Inheritance"
   ]
  },
  {
   "cell_type": "code",
   "execution_count": null,
   "metadata": {},
   "outputs": [
    {
     "name": "stdout",
     "output_type": "stream",
     "text": [
      "object height: 6 Ft\n",
      "object height: Blue\n",
      "Mother is Speaking: Pakistan Zindabad\n"
     ]
    }
   ],
   "source": [
    "class Mother():\n",
    "    def __init__(self, name: str) -> None:\n",
    "        self.name: str = name\n",
    "        self.eye_color: str = \"Blue\"\n",
    "\n",
    "    def speaking(self, words: str) -> str:\n",
    "        return f\"Mother is Speaking: {words}\"\n",
    "\n",
    "\n",
    "class Father():\n",
    "    def __init__(self, name: str) -> None:\n",
    "        self.name: str = name\n",
    "        self.height: str = \"6 Ft\"\n",
    "\n",
    "\n",
    "class Child(Mother, Father):\n",
    "    def __init__(self, mother_name: str, father_name: str, child_name: str) -> None:\n",
    "        Mother.__init__(self, mother_name)\n",
    "        Father.__init__(self, father_name)\n",
    "        self.child_name: str = child_name\n",
    "\n",
    "\n",
    "john: Child = Child(\"Johns Mother\", \"Johns Father\", \"John\")\n",
    "\n",
    "print(f\"object height: {john.height}\")\n",
    "print(f\"object height: {john.eye_color}\")\n",
    "print(john.speaking(\"Pakistan Zindabad\"))\n"
   ]
  },
  {
   "cell_type": "code",
   "execution_count": null,
   "metadata": {},
   "outputs": [
    {
     "name": "stdout",
     "output_type": "stream",
     "text": [
      "object height: 6 Ft\n",
      "object height: Blue\n",
      "Father is Speaking: Pakistan Zindabad\n"
     ]
    }
   ],
   "source": [
    "class Mother():\n",
    "    def __init__(self, name: str) -> None:\n",
    "        self.name: str = name\n",
    "        self.eye_color: str = \"Blue\"\n",
    "\n",
    "    def speaking(self, words: str) -> str:\n",
    "        return f\"Mother is Speaking: {words}\"\n",
    "\n",
    "\n",
    "class Father():\n",
    "    def __init__(self, name: str) -> None:\n",
    "        self.name: str = name\n",
    "        self.height: str = \"6 Ft\"\n",
    "    \n",
    "    def speaking(self, words: str) -> str:\n",
    "        return f\"Father is Speaking: {words}\"\n",
    "\n",
    "\n",
    "\n",
    "class Child(Father, Mother):\n",
    "    def __init__(self, mother_name: str, father_name: str, child_name: str) -> None:\n",
    "        Mother.__init__(self, mother_name)\n",
    "        Father.__init__(self, father_name)\n",
    "        self.child_name: str = child_name\n",
    "\n",
    "\n",
    "john: Child = Child(\"Johns Mother\", \"Johns Father\", \"John\")\n",
    "\n",
    "print(f\"object height: {john.height}\")\n",
    "print(f\"object height: {john.eye_color}\")\n",
    "print(john.speaking(\"Pakistan Zindabad\"))   # Function of First Parameter will be called\n"
   ]
  },
  {
   "cell_type": "code",
   "execution_count": null,
   "metadata": {},
   "outputs": [
    {
     "data": {
      "text/plain": [
       "['__class__',\n",
       " '__delattr__',\n",
       " '__dict__',\n",
       " '__dir__',\n",
       " '__doc__',\n",
       " '__eq__',\n",
       " '__format__',\n",
       " '__ge__',\n",
       " '__getattribute__',\n",
       " '__getstate__',\n",
       " '__gt__',\n",
       " '__hash__',\n",
       " '__init__',\n",
       " '__init_subclass__',\n",
       " '__le__',\n",
       " '__lt__',\n",
       " '__module__',\n",
       " '__ne__',\n",
       " '__new__',\n",
       " '__reduce__',\n",
       " '__reduce_ex__',\n",
       " '__repr__',\n",
       " '__setattr__',\n",
       " '__sizeof__',\n",
       " '__str__',\n",
       " '__subclasshook__',\n",
       " '__weakref__',\n",
       " 'child_name',\n",
       " 'eye_color',\n",
       " 'height',\n",
       " 'name',\n",
       " 'speaking']"
      ]
     },
     "metadata": {},
     "output_type": "display_data"
    }
   ],
   "source": [
    "dir(john)"
   ]
  },
  {
   "cell_type": "markdown",
   "metadata": {},
   "source": [
    "## Overriding & Polymorphism\n",
    "\n",
    "```\n",
    "All Classes with same methods and same parameters is known as Overriding\n",
    "```"
   ]
  },
  {
   "cell_type": "code",
   "execution_count": null,
   "metadata": {},
   "outputs": [
    {
     "name": "stdout",
     "output_type": "stream",
     "text": [
      "Bird is eating Bread\n",
      "Animal is eating Grass\n"
     ]
    }
   ],
   "source": [
    "class Animal():\n",
    "    def eating(self, food: str) -> None:\n",
    "        print(f\"Animal is eating {food}\")\n",
    "\n",
    "\n",
    "class Bird(Animal):\n",
    "    def eating(self, food: str) -> None:\n",
    "        print(f\"Bird is eating {food}\")\n",
    "\n",
    "myBird : Bird = Bird()\n",
    "myBird.eating(\"Bread\")\n",
    "\n",
    "myAnimal : Animal = Animal()\n",
    "myAnimal.eating(\"Grass\")\n"
   ]
  },
  {
   "cell_type": "markdown",
   "metadata": {},
   "source": [
    "### Polymorphism\n",
    "```\n",
    "allows a specific routine to use variables of different types at different times (runtime)\n",
    "```"
   ]
  },
  {
   "cell_type": "code",
   "execution_count": null,
   "metadata": {},
   "outputs": [
    {
     "name": "stdout",
     "output_type": "stream",
     "text": [
      "Bird is eating Grass\n"
     ]
    }
   ],
   "source": [
    "myAnimal : Animal = Bird()  # on runtime, it will decide which object method it will run\n",
    "myAnimal.eating(\"Grass\")\n"
   ]
  },
  {
   "cell_type": "code",
   "execution_count": null,
   "metadata": {},
   "outputs": [
    {
     "name": "stdout",
     "output_type": "stream",
     "text": [
      "<class '__main__.Bird'>\n"
     ]
    }
   ],
   "source": [
    "myAnimal : Animal = Bird()  # on runtime, it will decide which object method it will run\n",
    "print(type(myAnimal))\n"
   ]
  },
  {
   "cell_type": "markdown",
   "metadata": {},
   "source": [
    "## Static Method\n",
    "```\n",
    "a method that belongs to a class rather than an instance of a class\n",
    "\n",
    "__init__ is called Instance\n",
    "```"
   ]
  },
  {
   "cell_type": "code",
   "execution_count": null,
   "metadata": {},
   "outputs": [
    {
     "name": "stdout",
     "output_type": "stream",
     "text": [
      "Addition:  30\n",
      "Multiplication:  200\n",
      "result:  100\n"
     ]
    }
   ],
   "source": [
    "class MathOperations:\n",
    "    counter: int = 100          # Static Class Variable\n",
    "    organization: str = \"PIAIC\" # Static Class Variable\n",
    "\n",
    "    @staticmethod\n",
    "    def add(x: int, y: int) -> int:     # Static Method\n",
    "        \"\"\"Add two Methods\"\"\"\n",
    "        return x + y\n",
    "\n",
    "    @staticmethod\n",
    "    def multiply(x: int, y: int) -> int:\n",
    "        \"\"\"multiply two Methods\"\"\"\n",
    "        return x * y\n",
    "\n",
    "# Using the Static Method\n",
    "result_add = MathOperations.add(10,20)\n",
    "result_mul = MathOperations.multiply(10,20)\n",
    "result = MathOperations.counter\n",
    "\n",
    "print(\"Addition: \", result_add)\n",
    "print(\"Multiplication: \", result_mul)\n",
    "print(\"result: \", result)"
   ]
  },
  {
   "cell_type": "markdown",
   "metadata": {},
   "source": [
    "# Everything is an Object"
   ]
  },
  {
   "cell_type": "code",
   "execution_count": 27,
   "metadata": {},
   "outputs": [
    {
     "name": "stdout",
     "output_type": "stream",
     "text": [
      "Human is eating Biryani\n"
     ]
    }
   ],
   "source": [
    "class Human():  # Interpreter automatically add Object in Human Parameter\n",
    "    def eating(self, food:str) -> None:\n",
    "        print(f\"Human is eating {food}\")\n",
    "\n",
    "obj1 : Human = Human()\n",
    "obj1.eating(\"Biryani\")"
   ]
  },
  {
   "cell_type": "code",
   "execution_count": 28,
   "metadata": {},
   "outputs": [
    {
     "name": "stdout",
     "output_type": "stream",
     "text": [
      "Human is eating Biryani\n"
     ]
    }
   ],
   "source": [
    "class Human1(object):\n",
    "    def eating(self, food:str) -> None:\n",
    "        print(f\"Human is eating {food}\")\n",
    "\n",
    "obj2 : Human1 = Human1()\n",
    "obj2.eating(\"Biryani\")"
   ]
  },
  {
   "cell_type": "code",
   "execution_count": 29,
   "metadata": {},
   "outputs": [
    {
     "data": {
      "text/plain": [
       "['__class__',\n",
       " '__delattr__',\n",
       " '__dict__',\n",
       " '__dir__',\n",
       " '__doc__',\n",
       " '__eq__',\n",
       " '__format__',\n",
       " '__ge__',\n",
       " '__getattribute__',\n",
       " '__getstate__',\n",
       " '__gt__',\n",
       " '__hash__',\n",
       " '__init__',\n",
       " '__init_subclass__',\n",
       " '__le__',\n",
       " '__lt__',\n",
       " '__module__',\n",
       " '__ne__',\n",
       " '__new__',\n",
       " '__reduce__',\n",
       " '__reduce_ex__',\n",
       " '__repr__',\n",
       " '__setattr__',\n",
       " '__sizeof__',\n",
       " '__str__',\n",
       " '__subclasshook__',\n",
       " '__weakref__',\n",
       " 'eating']"
      ]
     },
     "execution_count": 29,
     "metadata": {},
     "output_type": "execute_result"
    }
   ],
   "source": [
    "dir(obj1)\n",
    "\n",
    "# All methods which has underscore(__) in the start and end are Object Methods"
   ]
  },
  {
   "cell_type": "code",
   "execution_count": 30,
   "metadata": {},
   "outputs": [
    {
     "data": {
      "text/plain": [
       "['__class__',\n",
       " '__delattr__',\n",
       " '__dir__',\n",
       " '__doc__',\n",
       " '__eq__',\n",
       " '__format__',\n",
       " '__ge__',\n",
       " '__getattribute__',\n",
       " '__getstate__',\n",
       " '__gt__',\n",
       " '__hash__',\n",
       " '__init__',\n",
       " '__init_subclass__',\n",
       " '__le__',\n",
       " '__lt__',\n",
       " '__ne__',\n",
       " '__new__',\n",
       " '__reduce__',\n",
       " '__reduce_ex__',\n",
       " '__repr__',\n",
       " '__setattr__',\n",
       " '__sizeof__',\n",
       " '__str__',\n",
       " '__subclasshook__']"
      ]
     },
     "execution_count": 30,
     "metadata": {},
     "output_type": "execute_result"
    }
   ],
   "source": [
    "dir(object)\n",
    "\n",
    "# All methods which has underscore(__) in the start and end are Object Methods"
   ]
  },
  {
   "cell_type": "markdown",
   "metadata": {},
   "source": [
    "# Callable\n",
    "https://realpython.com/python-callable-instances/"
   ]
  },
  {
   "cell_type": "code",
   "execution_count": 33,
   "metadata": {},
   "outputs": [
    {
     "name": "stdout",
     "output_type": "stream",
     "text": [
      "Human is eating Biryani\n",
      "Human is eating Nihari\n"
     ]
    }
   ],
   "source": [
    "from typing import Any\n",
    "\n",
    "\n",
    "class Human1(object):\n",
    "    def eating(self, food:str) -> None:\n",
    "        print(f\"Human is eating {food}\")\n",
    "\n",
    "    def __call__(self) -> None:\n",
    "        self.eating(\"Nihari\")\n",
    "\n",
    "    \n",
    "obj3 : Human1 = Human1()\n",
    "obj3.eating(\"Biryani\")\n",
    "\n",
    "obj3.__call__()\n"
   ]
  },
  {
   "cell_type": "code",
   "execution_count": 34,
   "metadata": {},
   "outputs": [
    {
     "data": {
      "text/plain": [
       "<__main__.Human1 at 0x1eb8a9872d0>"
      ]
     },
     "execution_count": 34,
     "metadata": {},
     "output_type": "execute_result"
    }
   ],
   "source": [
    "Human1()"
   ]
  }
 ],
 "metadata": {
  "kernelspec": {
   "display_name": "Python 3",
   "language": "python",
   "name": "python3"
  },
  "language_info": {
   "codemirror_mode": {
    "name": "ipython",
    "version": 3
   },
   "file_extension": ".py",
   "mimetype": "text/x-python",
   "name": "python",
   "nbconvert_exporter": "python",
   "pygments_lexer": "ipython3",
   "version": "3.11.0"
  }
 },
 "nbformat": 4,
 "nbformat_minor": 2
}
