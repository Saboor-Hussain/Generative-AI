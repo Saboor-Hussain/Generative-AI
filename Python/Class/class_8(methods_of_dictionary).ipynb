{
 "cells": [
  {
   "cell_type": "markdown",
   "metadata": {},
   "source": [
    "# Methods Of Dictionary\n",
    "\n",
    "```\n",
    " 'clear',\n",
    " 'copy',\n",
    " 'fromkeys',\n",
    " 'get',\n",
    " 'items',\n",
    " 'keys',\n",
    " 'pop',\n",
    " 'popitem',\n",
    " 'setdefault',\n",
    " 'update',\n",
    " 'values'\n",
    "```\n"
   ]
  },
  {
   "cell_type": "code",
   "execution_count": 14,
   "metadata": {},
   "outputs": [
    {
     "name": "stdout",
     "output_type": "stream",
     "text": [
      "before {'name': 'Saboor Hussain', 'fName': 'Syed Ali Khalid', 'education': 'BE-CE'}\n",
      "after {'name': 'Saboor Hussain', 'fName': 'Syed Ali Khalid', 'education': 'BE-CE'}\n"
     ]
    },
    {
     "data": {
      "text/plain": [
       "'Dictionary Methods:'"
      ]
     },
     "metadata": {},
     "output_type": "display_data"
    },
    {
     "data": {
      "text/plain": [
       "['clear',\n",
       " 'copy',\n",
       " 'fromkeys',\n",
       " 'get',\n",
       " 'items',\n",
       " 'keys',\n",
       " 'pop',\n",
       " 'popitem',\n",
       " 'setdefault',\n",
       " 'update',\n",
       " 'values']"
      ]
     },
     "metadata": {},
     "output_type": "display_data"
    }
   ],
   "source": [
    "from typing import Dict, Union, Optional\n",
    "\n",
    "# Custom Type\n",
    "Key = Union[int, str]\n",
    "Value = Union[int, str, list, dict, tuple, set]\n",
    "\n",
    "\n",
    "data: Dict[Key, Value] = {\n",
    "    \"name\": \"Saboor Hussain\",\n",
    "    \"fName\": \"Syed Ali Khalid\",\n",
    "    \"education\": \"BE-CE\"\n",
    "}\n",
    "print(\"before\", data)\n",
    "\n",
    "print(\"after\", data)\n",
    "\n",
    "methods: list[str] = [m for m in dir(data) if \"__\" not in m]\n",
    "display(\"Dictionary Methods:\", methods)"
   ]
  },
  {
   "cell_type": "markdown",
   "metadata": {},
   "source": [
    "## Update Method"
   ]
  },
  {
   "cell_type": "code",
   "execution_count": 15,
   "metadata": {},
   "outputs": [
    {
     "data": {
      "text/plain": [
       "{'name': 'Saboor Hussain',\n",
       " 'fName': 'Syed Ali Khalid',\n",
       " 'education': 'BE-CE',\n",
       " 'age': 20}"
      ]
     },
     "metadata": {},
     "output_type": "display_data"
    }
   ],
   "source": [
    "data: Dict[Key, Value] = {\n",
    "    \"name\": \"Saboor Hussain\",\n",
    "    \"fName\": \"Syed Ali Khalid\",\n",
    "    \"education\": \"BE-CE\"\n",
    "}\n",
    "data1: Dict[Key, Value] = {\n",
    "    \"name\": \"Saboor Hussain\",\n",
    "    \"fName\": \"Syed Ali Khalid\",\n",
    "    \"education\": \"BE-CE\",\n",
    "    \"age\" : 20,\n",
    "}\n",
    "\n",
    "data.update(data1)\n",
    "\n",
    "display(data)"
   ]
  },
  {
   "cell_type": "markdown",
   "metadata": {},
   "source": [
    "## Duplication of Keys"
   ]
  },
  {
   "cell_type": "code",
   "execution_count": 21,
   "metadata": {},
   "outputs": [
    {
     "name": "stdout",
     "output_type": "stream",
     "text": [
      "{'name': 'Syed Saboor Hussain', 'fName': 'Syed Ali Khalid', 'education': 'BE-CE'}\n"
     ]
    }
   ],
   "source": [
    "Key = Union[int, str]\n",
    "Value = Union[int, str, list, dict, tuple, set]\n",
    "\n",
    "\n",
    "data: Dict[Key, Value] = {\n",
    "    \"name\": \"Saboor Hussain\",\n",
    "    \"fName\": \"Syed Ali Khalid\",\n",
    "    \"education\": \"BE-CE\",\n",
    "    \"name\" : \"Syed Saboor Hussain\"\n",
    "}\n",
    "print(data)\n",
    "# Always uses the Last/Latest key/value"
   ]
  },
  {
   "cell_type": "markdown",
   "metadata": {},
   "source": [
    "## Dictionary to json"
   ]
  },
  {
   "cell_type": "code",
   "execution_count": null,
   "metadata": {},
   "outputs": [],
   "source": [
    "Key = Union[int, str]\n",
    "Value = Union[int, str, list, dict, tuple, set]\n",
    "\n",
    "\n",
    "data: Dict[Key, Value] = {\n",
    "    \"name\": \"Saboor Hussain\",\n",
    "    \"fName\": \"Syed Ali Khalid\",\n",
    "    \"education\": \"BE-CE\"\n",
    "}\n",
    "\n",
    "print(type(data))"
   ]
  },
  {
   "cell_type": "code",
   "execution_count": 24,
   "metadata": {},
   "outputs": [
    {
     "name": "stdout",
     "output_type": "stream",
     "text": [
      "<class 'str'>\n"
     ]
    }
   ],
   "source": [
    "import json\n",
    "\n",
    "json_data = json.dumps(data,indent=4)\n",
    "\n",
    "print(type(json_data))\n",
    "\n"
   ]
  },
  {
   "cell_type": "markdown",
   "metadata": {},
   "source": [
    "# Example of Dictionary"
   ]
  },
  {
   "cell_type": "code",
   "execution_count": 16,
   "metadata": {},
   "outputs": [
    {
     "data": {
      "text/html": [
       "<div>\n",
       "<style scoped>\n",
       "    .dataframe tbody tr th:only-of-type {\n",
       "        vertical-align: middle;\n",
       "    }\n",
       "\n",
       "    .dataframe tbody tr th {\n",
       "        vertical-align: top;\n",
       "    }\n",
       "\n",
       "    .dataframe thead th {\n",
       "        text-align: right;\n",
       "    }\n",
       "</style>\n",
       "<table border=\"1\" class=\"dataframe\">\n",
       "  <thead>\n",
       "    <tr style=\"text-align: right;\">\n",
       "      <th></th>\n",
       "      <th>roll_no</th>\n",
       "      <th>name</th>\n",
       "      <th>education</th>\n",
       "    </tr>\n",
       "  </thead>\n",
       "  <tbody>\n",
       "    <tr>\n",
       "      <th>0</th>\n",
       "      <td>1</td>\n",
       "      <td>Saboor Hussain</td>\n",
       "      <td>BSCS</td>\n",
       "    </tr>\n",
       "    <tr>\n",
       "      <th>1</th>\n",
       "      <td>2</td>\n",
       "      <td>Sir Hamza</td>\n",
       "      <td>DAE</td>\n",
       "    </tr>\n",
       "    <tr>\n",
       "      <th>2</th>\n",
       "      <td>3</td>\n",
       "      <td>Sir Qasim</td>\n",
       "      <td>Masters</td>\n",
       "    </tr>\n",
       "  </tbody>\n",
       "</table>\n",
       "</div>"
      ],
      "text/plain": [
       "   roll_no            name education\n",
       "0        1  Saboor Hussain      BSCS\n",
       "1        2       Sir Hamza       DAE\n",
       "2        3       Sir Qasim   Masters"
      ]
     },
     "execution_count": 16,
     "metadata": {},
     "output_type": "execute_result"
    }
   ],
   "source": [
    "from typing import Any\n",
    "import pandas as pd\n",
    "\n",
    "students_data: Dict[str, list[Any]] = {\n",
    "    \"roll_no\": [1, 2, 3],\n",
    "    \"name\": [\"Saboor Hussain\",\"Sir Hamza\",\"Sir Qasim\"],\n",
    "    \"education\": [\"BSCS\",\"DAE\",\"Masters\"]\n",
    "}\n",
    "\n",
    "df : pd.DataFrame = pd.DataFrame(students_data)\n",
    "\n",
    "df"
   ]
  },
  {
   "cell_type": "markdown",
   "metadata": {},
   "source": [
    "## Example 2 (From Book)\n"
   ]
  },
  {
   "cell_type": "code",
   "execution_count": 20,
   "metadata": {},
   "outputs": [
    {
     "name": "stdout",
     "output_type": "stream",
     "text": [
      "Original position: 0\n",
      "New position: 1\n"
     ]
    }
   ],
   "source": [
    "alien_0 = {'x_position': 0, 'y_position': 25, 'speed': 'medium'}\n",
    "print(f\"Original position: {alien_0['x_position']}\")\n",
    "# Move the alien to the right.\n",
    "# Determine how far to move the alien based on its current speed.\n",
    "\n",
    "# Speed\n",
    "alien_0['speed'] = 'slow'\n",
    "# alien_0['speed'] = 'medium'\n",
    "# alien_0['speed'] = 'fast'\n",
    "\n",
    "if alien_0['speed'] == 'slow':\n",
    " x_increment = 1\n",
    "elif alien_0['speed'] == 'medium':\n",
    " x_increment = 2\n",
    "else:\n",
    " # This must be a fast alien.\n",
    " x_increment = 3\n",
    "# The new position is the old position plus the increment.\n",
    "alien_0['x_position'] += x_increment\n",
    "print(f\"New position: {alien_0['x_position']}\")"
   ]
  }
 ],
 "metadata": {
  "kernelspec": {
   "display_name": "Python 3",
   "language": "python",
   "name": "python3"
  },
  "language_info": {
   "codemirror_mode": {
    "name": "ipython",
    "version": 3
   },
   "file_extension": ".py",
   "mimetype": "text/x-python",
   "name": "python",
   "nbconvert_exporter": "python",
   "pygments_lexer": "ipython3",
   "version": "3.11.0"
  }
 },
 "nbformat": 4,
 "nbformat_minor": 2
}
