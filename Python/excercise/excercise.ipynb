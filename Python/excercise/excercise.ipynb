{
 "cells": [
  {
   "cell_type": "markdown",
   "metadata": {},
   "source": [
    "# Python Crash Course Exercises\n"
   ]
  },
  {
   "cell_type": "markdown",
   "metadata": {},
   "source": [
    "* 3-1. Names: Store the names of a few of your friends in a list called names. Print each person’s name by accessing each element in the list, one at a time."
   ]
  },
  {
   "cell_type": "code",
   "execution_count": 8,
   "metadata": {},
   "outputs": [
    {
     "name": "stdout",
     "output_type": "stream",
     "text": [
      "Azhar\n",
      "saad\n",
      "shoaib\n",
      "Rehman\n"
     ]
    }
   ],
   "source": [
    "names : list[str] = [\"Azhar\", \"saad\", \"shoaib\", \"Rehman\"]\n",
    "print(names[0])\n",
    "print(names[1])\n",
    "print(names[2])\n",
    "print(names[3])\n"
   ]
  },
  {
   "cell_type": "markdown",
   "metadata": {},
   "source": [
    "* 3-2. Greetings: Start with the list you used in Exercise 3-1, but instead of just printing each person’s name, print a message to them. The text of each message should be the same, but each message should be personalized with the person’s name"
   ]
  },
  {
   "cell_type": "code",
   "execution_count": 11,
   "metadata": {},
   "outputs": [
    {
     "name": "stdout",
     "output_type": "stream",
     "text": [
      "\n",
      "My Friend named Azhar is a Front-End Developer\n",
      "\n",
      "My Friend named saad is a Graphic Designer\n",
      "\n",
      "My Friend named shoaib is a Wordpress Developer\n",
      "\n",
      "My Friend named Rehman is a Web Developer\n",
      "\n",
      "\n"
     ]
    }
   ],
   "source": [
    "message: str = f'''\n",
    "My Friend named {names[0]} is a Front-End Developer\\n\n",
    "My Friend named {names[1]} is a Graphic Designer\\n\n",
    "My Friend named {names[2]} is a Wordpress Developer\\n\n",
    "My Friend named {names[3]} is a Web Developer\\n\n",
    "'''\n",
    "\n",
    "print(message)"
   ]
  },
  {
   "cell_type": "markdown",
   "metadata": {},
   "source": [
    "* 3-5. Changing Guest List: You just heard that one of your guests can’t make the dinner, so you need to send out a new set of invitations. You’ll have to think of someone else to invite.\n",
    "- Start with your program from Exercise 3-4. Add a print() call at the end of \n",
    "your program, stating the name of the guest who can’t make it.\n",
    "- Modify your list, replacing the name of the guest who can’t make it with the \n",
    "name of the new person you are inviting.\n",
    "- Print a second set of invitation messages, one for each person who is still in \n",
    "your list."
   ]
  },
  {
   "cell_type": "code",
   "execution_count": 13,
   "metadata": {},
   "outputs": [
    {
     "name": "stdout",
     "output_type": "stream",
     "text": [
      "['honda', 'yamaha', 'suzuki']\n",
      "['Super Asia', 'yamaha', 'suzuki']\n"
     ]
    }
   ],
   "source": []
  }
 ],
 "metadata": {
  "kernelspec": {
   "display_name": "Python 3",
   "language": "python",
   "name": "python3"
  },
  "language_info": {
   "codemirror_mode": {
    "name": "ipython",
    "version": 3
   },
   "file_extension": ".py",
   "mimetype": "text/x-python",
   "name": "python",
   "nbconvert_exporter": "python",
   "pygments_lexer": "ipython3",
   "version": "3.11.0"
  }
 },
 "nbformat": 4,
 "nbformat_minor": 2
}
